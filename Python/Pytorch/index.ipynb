{
 "cells": [
  {
   "cell_type": "markdown",
   "metadata": {},
   "source": [
    "# Introduction to PyTorch \n",
    "<img src=\"./images/pytorch-logo2.png\" style=\"width: 200px;\"/>\n",
    "\n",
    "## Limsi - May 2019\n",
    "\n",
    "---\n",
    "## Part I\n",
    "### Installation\n",
    "### PyTorch Tensors\n",
    "### PyTorch autograd package\n",
    "### Design and train neural networks with PyTorch nn package\n",
    "---\n",
    "## Part II\n",
    "### Questions on part I\n",
    "### Models and activation functions\n",
    "### Load and processing data\n",
    "### Convolutional nn\n",
    "### Transfer learning\n",
    "### What to see next\n",
    "---\n",
    "### References"
   ]
  }
 ],
 "metadata": {
  "kernelspec": {
   "display_name": "Python 3",
   "language": "python",
   "name": "python3"
  },
  "language_info": {
   "codemirror_mode": {
    "name": "ipython",
    "version": 3
   },
   "file_extension": ".py",
   "mimetype": "text/x-python",
   "name": "python",
   "nbconvert_exporter": "python",
   "pygments_lexer": "ipython3",
   "version": "3.6.8"
  }
 },
 "nbformat": 4,
 "nbformat_minor": 2
}
