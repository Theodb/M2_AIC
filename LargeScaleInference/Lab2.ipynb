{
 "cells": [
  {
   "cell_type": "markdown",
   "metadata": {
    "colab_type": "text",
    "id": "IwILkW1F8FnJ"
   },
   "source": [
    "# TC4 - Lab exercises 2\n",
    "\n",
    "In this notebook, we are going to improve the POS tagger of last week. Instead of using a naive Bayes classifier, we will rely on a HMM where:\n",
    "- the hidden states are POS tags\n",
    "- the observations are words\n",
    "\n",
    "It is a first order HMM where probabilities are defined as follows:\n",
    "$$\n",
    "p(y_1...y_n, x_1...x_n) = p(y_1) \\prod_{i=2}^n p(y_i | y_{i-1}) \\prod_{i=1}^n p(x_i | y_i)\n",
    "$$"
   ]
  },
  {
   "cell_type": "code",
   "execution_count": 111,
   "metadata": {},
   "outputs": [],
   "source": [
    "import nltk\n",
    "import numpy as np\n",
    "import sys\n",
    "import math"
   ]
  },
  {
   "cell_type": "markdown",
   "metadata": {
    "colab_type": "text",
    "id": "IwILkW1F8FnJ"
   },
   "source": [
    "# 1. Data\n",
    "\n",
    "We first need to load and split the data between train and test data. You need to report the code from last week with the same split (90% train / 10% test)."
   ]
  },
  {
   "cell_type": "code",
   "execution_count": 112,
   "metadata": {},
   "outputs": [],
   "source": [
    "# import dataset\n",
    "data = list(nltk.corpus.brown.tagged_sents(tagset='universal'))"
   ]
  },
  {
   "cell_type": "code",
   "execution_count": 113,
   "metadata": {},
   "outputs": [],
   "source": [
    "train_data = []\n",
    "test_data = []\n",
    "\n",
    "import random\n",
    "random.shuffle(data) # We start by shuffling the dataset to break the correlation between successive sentences\n",
    "test_data = data[:len(data)//10]\n",
    "train_data = data[len(data)//10:]"
   ]
  },
  {
   "cell_type": "code",
   "execution_count": 114,
   "metadata": {},
   "outputs": [
    {
     "data": {
      "text/plain": [
       "(51606, 5734)"
      ]
     },
     "execution_count": 114,
     "metadata": {},
     "output_type": "execute_result"
    }
   ],
   "source": [
    "len(train_data), len(test_data)"
   ]
  },
  {
   "cell_type": "markdown",
   "metadata": {},
   "source": [
    "We will store the parameters of the HMM in numpy arrays. Therefore, to simplify the model, we rely on a dictionnary that maps words to tokens:\n",
    "- the constructor takes as argument an iteratable over strings (e.g. list of strings) containing the vocabulary to store in the dictionnary\n",
    "- you can set unk=\"\\*UNK\\*\" to add entry for unknown strings (do not do it for POS tags!)\n",
    "- len(dict) gives you the numbers of entry in the dict\n",
    "- str_to_id maps a string to an index\n",
    "- id_to_str gives you the string stored at a given index"
   ]
  },
  {
   "cell_type": "code",
   "execution_count": 115,
   "metadata": {},
   "outputs": [],
   "source": [
    "class Dict:\n",
    "    def __init__(self, words, unk=None):\n",
    "        self._unk = unk\n",
    "        self._word_to_id = dict()\n",
    "        self._id_to_word = list()\n",
    "\n",
    "        if unk in words:\n",
    "            raise RuntimeError(\"UNK word exists in vocabulary\")\n",
    "\n",
    "        if unk is not None:\n",
    "            self.unk_index = self._add_word(unk)\n",
    "\n",
    "        for word in words:\n",
    "            self._add_word(word)\n",
    "\n",
    "    # for internal use only!\n",
    "    def _add_word(self, word):\n",
    "        if word not in self._word_to_id:\n",
    "            id = len(self._id_to_word)\n",
    "            self._word_to_id[word] = id\n",
    "            self._id_to_word.append(word)\n",
    "            return id\n",
    "        else:\n",
    "            return self._word_to_id[word]\n",
    "\n",
    "    def str_to_id(self, word):\n",
    "        if self._unk is not None:\n",
    "            return self._word_to_id.get(word, self.unk_index)\n",
    "        else:\n",
    "            return self._word_to_id[word]\n",
    "\n",
    "    def id_to_str(self, id):\n",
    "        return self._id_to_word[id]\n",
    "\n",
    "    def __len__(self):\n",
    "        return len(self._word_to_id)\n",
    "\n",
    "    def has_unk(self):\n",
    "        return self._unk is not None\n",
    "    \n",
    "    def unk(self):\n",
    "        return self.unk_index"
   ]
  },
  {
   "cell_type": "markdown",
   "metadata": {},
   "source": [
    "Example:"
   ]
  },
  {
   "cell_type": "code",
   "execution_count": 116,
   "metadata": {},
   "outputs": [
    {
     "name": "stdout",
     "output_type": "stream",
     "text": [
      "N. entry:  4\n",
      "Index of \"b\": 2\n",
      "Index of \"e\": 0\n"
     ]
    }
   ],
   "source": [
    "test_dict = Dict([\"a\", \"b\", \"c\"], unk=\"*UNK*\")\n",
    "print(\"N. entry: \", len(test_dict))\n",
    "print(\"Index of \\\"b\\\":\", test_dict.str_to_id(\"b\"))\n",
    "# the following line does not throw an error because we gave a unk word\n",
    "print(\"Index of \\\"e\\\":\", test_dict.str_to_id(\"e\"))"
   ]
  },
  {
   "cell_type": "markdown",
   "metadata": {},
   "source": [
    "We now build the dictionnary of words and tags. We will restrict the dictionnary of words to contain only words that appears 10 or more times in the training data (use the code of last time).\n",
    "\n",
    "For the dictionnary of words, the the unk parameters to any string you want. For the dictionnary of POS tags, do not set an unk word!"
   ]
  },
  {
   "cell_type": "code",
   "execution_count": 117,
   "metadata": {},
   "outputs": [],
   "source": [
    "def compute_word_counts(data):\n",
    "    distribution = {}\n",
    "    for sentence in data:\n",
    "        for word, tag in sentence:\n",
    "            if word in distribution:\n",
    "                distribution[word] += 1\n",
    "            else:\n",
    "                distribution[word] = 1\n",
    "    return distribution\n",
    "word_counts = compute_word_counts(train_data)\n",
    "word_dict = Dict([word for word in word_counts if word_counts[word] >= 10], unk=\"*UNK*\")\n",
    "tags = []\n",
    "for sentence in train_data:\n",
    "    for word, tag in sentence:\n",
    "        tags.append(tag)\n",
    "tags_dict = Dict(tags)"
   ]
  },
  {
   "cell_type": "markdown",
   "metadata": {},
   "source": [
    "# 2. Hidden Markov Model\n",
    "\n",
    "The HMM class is a simple container for:\n",
    "- the dictionnary of hidden states y_dict (i.e. dictionnary of tags)\n",
    "- the dictionnary of observations x_dict (i.e. dictionnary of words)\n",
    "- the parameters of the HMM:\n",
    "    * init_prob $\\in \\mathbb R^{|Y|}$: initial tag probabilities $p(y_0) = init\\_prob[y_0]$\n",
    "    * transition_prob $\\in \\mathbb R^{|Y| \\times |Y|}$: tag transition probabilities $p(y_i | y_{i - 1}) = transition\\_prob[y_{i - 1}, y_i]$\n",
    "    * observation_prob $\\in \\mathbb R^{|Y| \\times |X|}$: observation probabilities $p(x_i | y_i) = observation\\_prob[y_i, x_i]$"
   ]
  },
  {
   "cell_type": "code",
   "execution_count": 118,
   "metadata": {
    "colab": {},
    "colab_type": "code",
    "id": "NtP9d0Pz8FnL"
   },
   "outputs": [],
   "source": [
    "class HMM:\n",
    "    def __init__(self, y_dict, x_dict):\n",
    "        if not isinstance(y_dict, Dict) or not isinstance(x_dict, Dict):\n",
    "            raise RuntimeError(\"Arguments must be of type Dict\")\n",
    "\n",
    "        self.y_dict = y_dict\n",
    "        self.x_dict = x_dict\n",
    "        n_y = len(y_dict)\n",
    "        n_x = len(x_dict)\n",
    "        \n",
    "        self.init_prob = np.zeros((n_y,), float) \n",
    "        self.transition_prob = np.zeros((n_y, n_y), float) \n",
    "        self.observation_prob = np.zeros((n_y, n_x), float) "
   ]
  },
  {
   "cell_type": "markdown",
   "metadata": {},
   "source": [
    "## 2.1 Learning\n",
    "\n",
    "Compute the matrices of probabilities hmm.init_prob, hmm.observation_prob and hmm.transition_prob from the data.\n",
    "\n",
    "You **must** smooth the distributions!"
   ]
  },
  {
   "cell_type": "code",
   "execution_count": 119,
   "metadata": {},
   "outputs": [],
   "source": [
    "n_x = len(word_dict)\n",
    "n_y = len(tags_dict)\n",
    "\n",
    "hmm = HMM(tags_dict, word_dict)\n",
    "for sentence in train_data:\n",
    "    hmm.init_prob[tags_dict.str_to_id(sentence[0][1])] += 1.\n",
    "hmm.init_prob += np.full(n_y, 1.)\n",
    "hmm.init_prob /= np.sum(hmm.init_prob)\n",
    "\n",
    "for sentence in train_data:\n",
    "    for word, tag in sentence:\n",
    "        hmm.observation_prob[tags_dict.str_to_id(tag), word_dict.str_to_id(word)] += 1.\n",
    "hmm.observation_prob += np.full((n_y, n_x), 1.)\n",
    "for y in range(n_y):\n",
    "    hmm.observation_prob[y] /= np.sum(hmm.observation_prob[y])\n",
    "\n",
    "for sentence in train_data:\n",
    "    for i in range(1, len(sentence)):\n",
    "        hmm.transition_prob[tags_dict.str_to_id(sentence[i-1][1]), tags_dict.str_to_id(sentence[i][1])] += 1.\n",
    "hmm.transition_prob += np.full((n_y, n_y), 1.)\n",
    "for y in range(n_y):\n",
    "    hmm.transition_prob[y] /= np.sum(hmm.transition_prob[y])"
   ]
  },
  {
   "cell_type": "markdown",
   "metadata": {},
   "source": [
    "The following three cells check that the distribution you computed correctly sum to one. The first cell should output 1.0, the two others should output array containing twelve times the number 1."
   ]
  },
  {
   "cell_type": "code",
   "execution_count": 120,
   "metadata": {},
   "outputs": [
    {
     "data": {
      "text/plain": [
       "0.9999999999999999"
      ]
     },
     "execution_count": 120,
     "metadata": {},
     "output_type": "execute_result"
    }
   ],
   "source": [
    "hmm.init_prob.sum()"
   ]
  },
  {
   "cell_type": "code",
   "execution_count": 121,
   "metadata": {},
   "outputs": [
    {
     "data": {
      "text/plain": [
       "array([1., 1., 1., 1., 1., 1., 1., 1., 1., 1., 1., 1.])"
      ]
     },
     "execution_count": 121,
     "metadata": {},
     "output_type": "execute_result"
    }
   ],
   "source": [
    "hmm.observation_prob.sum(1)"
   ]
  },
  {
   "cell_type": "code",
   "execution_count": 122,
   "metadata": {},
   "outputs": [
    {
     "data": {
      "text/plain": [
       "array([1., 1., 1., 1., 1., 1., 1., 1., 1., 1., 1., 1.])"
      ]
     },
     "execution_count": 122,
     "metadata": {},
     "output_type": "execute_result"
    }
   ],
   "source": [
    "hmm.transition_prob.sum(1)"
   ]
  },
  {
   "cell_type": "markdown",
   "metadata": {},
   "source": [
    "# 2.2. Viterbi\n",
    "\n",
    "Implement the viterbi **without** computing in the log domain. What tagging accuracy do you achieve? How is it compared to the naive Bayes model of last week?"
   ]
  },
  {
   "cell_type": "code",
   "execution_count": 123,
   "metadata": {},
   "outputs": [],
   "source": [
    "def viterbi(hmm, words):\n",
    "    \"\"\"\n",
    "    Input:\n",
    "    - hmm: an HMM object\n",
    "    - words: a list of words (ie a sentence)\n",
    "    Return:\n",
    "    - a list of POS tags\n",
    "    \"\"\"\n",
    "    x = [hmm.x_dict.str_to_id(word) for word in words]\n",
    "    n = len(words)\n",
    "    chart = np.zeros((n_y, n))\n",
    "    backptr = np.zeros((n_y, n), dtype='int')\n",
    "    for y in range(n_y):\n",
    "        chart[y, 0] = hmm.init_prob[y] * hmm.observation_prob[y, x[0]]\n",
    "    for j in range(1, n):\n",
    "        for y in range(n_y):\n",
    "            ypmax, maxi = -1, -np.inf\n",
    "            for yp in range(n_y):\n",
    "                val = hmm.transition_prob[yp, y] * hmm.observation_prob[y, x[j]] * chart[yp, j-1]\n",
    "                if val > maxi:\n",
    "                    ypmax = yp\n",
    "                    maxi = val\n",
    "            chart[y, j] = maxi\n",
    "            backptr[y, j] = ypmax\n",
    "    pred = [-1] * n\n",
    "    pred[n-1] = np.argmax(chart[:,n-1])\n",
    "    for j in reversed(range(0, n-1)):\n",
    "        pred[j] = backptr[pred[j+1], j+1]\n",
    "    for i in range(n):\n",
    "        pred[i] = hmm.y_dict.id_to_str(pred[i])\n",
    "    return pred"
   ]
  },
  {
   "cell_type": "code",
   "execution_count": 124,
   "metadata": {},
   "outputs": [
    {
     "name": "stdout",
     "output_type": "stream",
     "text": [
      "Tagging accuracy: 93.22\n"
     ]
    }
   ],
   "source": [
    "# Evaluate the HMM using the viterbi\n",
    "n_tags = 0\n",
    "n_correct_tags = 0\n",
    "for sentence in test_data:\n",
    "    words = [w for w, t in sentence]\n",
    "    pred = viterbi(hmm, words)\n",
    "    n_tags += len(sentence)\n",
    "    n_correct_tags += sum(1 for w in range(len(sentence))  if sentence[w][1] == pred[w])\n",
    "print(\"Tagging accuracy: %.2f\" % (100 * n_correct_tags / n_tags))"
   ]
  },
  {
   "cell_type": "markdown",
   "metadata": {},
   "source": [
    "# 2.3. Viterbi in the log domain\n",
    "\n",
    "Copy/paste you code from the previous cell and change it to compute in the log domain. What tagging accuracy do you achieve? How is it compared to the naive Bayes model of last week and to the previous implementation of the viterbi?"
   ]
  },
  {
   "cell_type": "code",
   "execution_count": 125,
   "metadata": {},
   "outputs": [],
   "source": [
    "def viterbi_log(hmm, words):\n",
    "    \"\"\"\n",
    "    Input:\n",
    "    - hmm: an HMM object\n",
    "    - words: a list of words (ie a sentence)\n",
    "    Return:\n",
    "    - a list of POS tags\n",
    "    \"\"\"\n",
    "    x = [hmm.x_dict.str_to_id(word) for word in words]\n",
    "    n = len(words)\n",
    "    chart = np.zeros((n_y, n))\n",
    "    backptr = np.zeros((n_y, n), dtype='int')\n",
    "    init_prob = np.log(hmm.init_prob)\n",
    "    observation_prob = np.log(hmm.observation_prob)\n",
    "    transition_prob = np.log(hmm.transition_prob)\n",
    "    \n",
    "    for y in range(n_y):\n",
    "        chart[y, 0] = init_prob[y] + observation_prob[y, x[0]]\n",
    "    for j in range(1, n):\n",
    "        for y in range(n_y):\n",
    "            ypmax, maxi = -1, -np.inf\n",
    "            for yp in range(n_y):\n",
    "                val = transition_prob[yp, y] + observation_prob[y, x[j]] + chart[yp, j-1]\n",
    "                if val > maxi:\n",
    "                    ypmax = yp\n",
    "                    maxi = val\n",
    "            chart[y, j] = maxi\n",
    "            backptr[y, j] = ypmax\n",
    "    pred = [-1] * n\n",
    "    pred[n-1] = np.argmax(chart[:,n-1])\n",
    "    for j in reversed(range(0, n-1)):\n",
    "        pred[j] = backptr[pred[j+1], j+1]\n",
    "    for i in range(n):\n",
    "        pred[i] = hmm.y_dict.id_to_str(pred[i])\n",
    "    return pred"
   ]
  },
  {
   "cell_type": "code",
   "execution_count": 126,
   "metadata": {},
   "outputs": [
    {
     "name": "stdout",
     "output_type": "stream",
     "text": [
      "Tagging accuracy: 93.24\n"
     ]
    }
   ],
   "source": [
    "# Evaluate the HMM using the viterbi in the log domain\n",
    "\n",
    "n_tags = 0\n",
    "n_correct_tags = 0\n",
    "for sentence in test_data:\n",
    "    words = [w for w, t in sentence]\n",
    "    pred = viterbi_log(hmm, words)\n",
    "    n_tags += len(sentence)\n",
    "    n_correct_tags += sum(1 for w in range(len(sentence))  if sentence[w][1] == pred[w])\n",
    "\n",
    "print(\"Tagging accuracy: %.2f\" % (100 * n_correct_tags / n_tags))"
   ]
  },
  {
   "cell_type": "markdown",
   "metadata": {},
   "source": [
    "# 3. Marginalization\n",
    "\n",
    "As a last exercise, implement function that evaluate the probability of a sequence of words and a sequence of hidden states given a HMM."
   ]
  },
  {
   "cell_type": "code",
   "execution_count": 127,
   "metadata": {},
   "outputs": [],
   "source": [
    "def probabilit_y(hmm, tags):\n",
    "    prob = hmm.init_prob[tags_dict.str_to_id(tags[0])]\n",
    "    for i in range(1, len(tags)):\n",
    "        prob *= hmm.transition_prob[tags_dict.str_to_id(tags[i-1]), tags_dict.str_to_id(tags[i])]\n",
    "    return prob"
   ]
  },
  {
   "cell_type": "code",
   "execution_count": 128,
   "metadata": {},
   "outputs": [
    {
     "name": "stdout",
     "output_type": "stream",
     "text": [
      "0.0001539949469698149\n",
      "1.7378512070604983e-08\n"
     ]
    }
   ],
   "source": [
    "tags = \"DET NOUN VERB DET ADJ NOUN .\".split()\n",
    "print(probabilit_y(hmm, tags))\n",
    "random.shuffle(tags)\n",
    "print(probabilit_y(hmm, tags))"
   ]
  },
  {
   "cell_type": "code",
   "execution_count": 129,
   "metadata": {},
   "outputs": [],
   "source": [
    "def probabilit_x(hmm, words):\n",
    "    n = len(words)\n",
    "    x = [word_dict.str_to_id(word) for word in words]\n",
    "    chart = np.zeros((n_y, n))\n",
    "    for y in range(n_y):\n",
    "        chart[y, 0] = hmm.init_prob[y] * hmm.observation_prob[y, x[0]]\n",
    "    for j in range(1, n):\n",
    "        for y in range(n_y):\n",
    "            chart[y, j] = sum(hmm.transition_prob[yp, y] * hmm.observation_prob[y, x[j]] * chart[yp, j-1] for yp in range(n_y))\n",
    "    return sum(chart[y, n-1] for y in range(n_y))"
   ]
  },
  {
   "cell_type": "code",
   "execution_count": 130,
   "metadata": {},
   "outputs": [
    {
     "name": "stdout",
     "output_type": "stream",
     "text": [
      "1.0083557975588482e-12\n",
      "2.046577199314669e-15\n"
     ]
    }
   ],
   "source": [
    "sentence = \"This is a sentence .\".split()\n",
    "print(probabilit_x(hmm, sentence))\n",
    "random.shuffle(sentence)\n",
    "print(probabilit_x(hmm, sentence))"
   ]
  },
  {
   "cell_type": "code",
   "execution_count": null,
   "metadata": {},
   "outputs": [],
   "source": []
  }
 ],
 "metadata": {
  "colab": {
   "name": "TC4-tp2.ipynb",
   "provenance": [],
   "version": "0.3.2"
  },
  "kernelspec": {
   "display_name": "Python 3",
   "language": "python",
   "name": "python3"
  },
  "language_info": {
   "codemirror_mode": {
    "name": "ipython",
    "version": 3
   },
   "file_extension": ".py",
   "mimetype": "text/x-python",
   "name": "python",
   "nbconvert_exporter": "python",
   "pygments_lexer": "ipython3",
   "version": "3.6.5"
  }
 },
 "nbformat": 4,
 "nbformat_minor": 1
}
