{
 "cells": [
  {
   "cell_type": "code",
   "execution_count": 268,
   "metadata": {
    "colab": {},
    "colab_type": "code",
    "id": "MDylNWSLT-_5"
   },
   "outputs": [],
   "source": [
    "import re\n",
    "import numpy as np\n",
    "import torch as th\n",
    "import torch.autograd as ag\n",
    "import torch.nn.functional as F\n",
    "import torch.nn as nn\n",
    "import matplotlib.pyplot as plt"
   ]
  },
  {
   "cell_type": "markdown",
   "metadata": {
    "colab_type": "text",
    "id": "sFXLYeYAT_AB"
   },
   "source": [
    "# Deep Learning for NLP - lab exercise 1\n",
    "\n",
    "In this first lab exercise we will implement a simple bag-of-word classifier, i.e. a classifier that ignores the sequential structure of the sentence. The goal is to predict if a sentence is a positive or negative review of a movie. We will use a dataset constructed from IMDB.\n",
    "\n",
    "1. Load and clean the data\n",
    "2. Preprocess the data for the NN\n",
    "3. Module definition\n",
    "4. Train the network!\n",
    "\n",
    "We will implement this model with Pytorch, the most popular deep learning framework for Natural Language Processing. You can use the following links for help:\n",
    "* turorials: http://pytorch.org/tutorials/\n",
    "* documentation: http://pytorch.org/docs/master/ \n",
    "\n",
    "**Hard deadline**: December 3, 2019\n",
    "\n",
    "\n",
    "## Report\n",
    "\n",
    "On top of this notebook, you must submit a report explaining your neural network, it's training method and report+analyse results, for example with different hyper-parameters (number of hidden layers, different embedding size, different hidden representation size, w or w/o dropout...you choose what you want to explore!).\n",
    "You can also report results with different training dataset sizes (how does the number of training instances impact dev/test results? => *WARNING* obviously, here you change the training set size but you freeze the dev/test sets).\n",
    "\n",
    "Training with the full dataset may be slow depending on your computer.\n",
    "\n",
    "## Data\n",
    "\n",
    "The data can be download here: http://teaching.caio-corro.fr/2019-2020/OPT7/imdb.zip\n",
    "\n",
    "There are two files: one with positive reviews (imdb.pos) and one with negative reviews (imdb.neg). Each file contains 300000 reviews, one per line.\n",
    "\n",
    "\n",
    "The following functions can be used to load and clean the data."
   ]
  },
  {
   "cell_type": "code",
   "execution_count": 269,
   "metadata": {
    "colab": {},
    "colab_type": "code",
    "id": "21dgnZLOT_AE"
   },
   "outputs": [],
   "source": [
    "# Tokenize a sentence\n",
    "def clean_str(string, tolower=True):\n",
    "    \"\"\"\n",
    "    Tokenization/string cleaning.\n",
    "    Original taken from https://github.com/yoonkim/CNN_sentence/blob/master/process_data.py\n",
    "    \"\"\"\n",
    "    string = re.sub(r\"[^A-Za-z0-9(),!?\\'\\`]\", \" \", string)\n",
    "    string = re.sub(r\"\\'s\", \" \\'s\", string)\n",
    "    string = re.sub(r\"\\'ve\", \" \\'ve\", string)\n",
    "    string = re.sub(r\"n\\'t\", \" n\\'t\", string)\n",
    "    string = re.sub(r\"\\'re\", \" \\'re\", string)\n",
    "    string = re.sub(r\"\\'d\", \" \\'d\", string)\n",
    "    string = re.sub(r\"\\'ll\", \" \\'ll\", string)\n",
    "    string = re.sub(r\",\", \" , \", string)\n",
    "    string = re.sub(r\"!\", \" ! \", string)\n",
    "    string = re.sub(r\"\\(\", \" \\( \", string)\n",
    "    string = re.sub(r\"\\)\", \" \\) \", string)\n",
    "    string = re.sub(r\"\\?\", \" \\? \", string)\n",
    "    string = re.sub(r\"\\s{2,}\", \" \", string)\n",
    "    if tolower:\n",
    "        string = string.lower()\n",
    "    return string.strip()\n",
    "\n",
    "\n",
    "# reads the content of the file passed as an argument.\n",
    "# if limit > 0, this function will return only the first \"limit\" sentences in the file.\n",
    "def loadTexts(filename, limit=-1):\n",
    "    f = open(filename)\n",
    "    dataset=[]\n",
    "    line =  f.readline()\n",
    "    cpt=1\n",
    "    skip=0\n",
    "    while line :\n",
    "        cleanline = clean_str(f.readline()).split()\n",
    "        if cleanline: \n",
    "            dataset.append(cleanline)\n",
    "        else: \n",
    "            line = f.readline()\n",
    "            skip+=1\n",
    "            continue\n",
    "        if limit > 0 and cpt >= limit: \n",
    "            break\n",
    "        line = f.readline()\n",
    "        cpt+=1        \n",
    "        \n",
    "    f.close()\n",
    "    print(\"Load \", cpt, \" lines from \", filename , \" / \", skip ,\" lines discarded\")\n",
    "    return dataset\n"
   ]
  },
  {
   "cell_type": "markdown",
   "metadata": {
    "colab_type": "text",
    "id": "7WdYv6bET_AJ"
   },
   "source": [
    "The following cell load the first 5000 sentences in each review set."
   ]
  },
  {
   "cell_type": "code",
   "execution_count": 250,
   "metadata": {
    "colab": {
     "base_uri": "https://localhost:8080/",
     "height": 52
    },
    "colab_type": "code",
    "id": "o6hzxygRT_AO",
    "outputId": "1af4974f-19c2-4e37-c1f9-13b008fbbbb6"
   },
   "outputs": [
    {
     "name": "stdout",
     "output_type": "stream",
     "text": [
      "Load  5000  lines from  imdb.pos  /  1  lines discarded\n",
      "Load  5000  lines from  imdb.neg  /  1  lines discarded\n"
     ]
    }
   ],
   "source": [
    "LIM=5000\n",
    "txtfile = 'imdb.pos'  # path of the file containing positive reviews\n",
    "postxt = loadTexts(txtfile,limit=LIM)\n",
    "\n",
    "txtfile = 'imdb.neg'  # path of the file containing negative reviews\n",
    "negtxt = loadTexts(txtfile,limit=LIM)"
   ]
  },
  {
   "cell_type": "markdown",
   "metadata": {
    "colab_type": "text",
    "id": "7M0HcuyfT_AZ"
   },
   "source": [
    "Split the data between train / dev / test, for example by creating lists txt_train, label_train, txt_dev, ... You should take care to keep a 50/50 ratio between positive and negative instances in each set."
   ]
  },
  {
   "cell_type": "code",
   "execution_count": 252,
   "metadata": {
    "colab": {},
    "colab_type": "code",
    "id": "s5yjuqO3T_Ar"
   },
   "outputs": [],
   "source": [
    "data = postxt + negtxt\n",
    "label = np.concatenate((np.ones(len(postxt)),np.zeros(len(negtxt))),axis=0)"
   ]
  },
  {
   "cell_type": "code",
   "execution_count": 253,
   "metadata": {
    "colab": {},
    "colab_type": "code",
    "id": "7urs3UrDT_Au"
   },
   "outputs": [],
   "source": [
    "from sklearn.model_selection import train_test_split\n",
    "txt_train, txt_test, label_train, label_test = train_test_split(data, label, test_size=0.1, random_state=1 ,stratify=label)\n",
    "txt_train,txt_dev,label_train,label_dev = train_test_split(txt_train , label_train , test_size=0.1, random_state = 1 , stratify=label_train)"
   ]
  },
  {
   "cell_type": "markdown",
   "metadata": {
    "colab_type": "text",
    "id": "BFqOhcTIT_Ay"
   },
   "source": [
    "# Converting data to Pytorch tensors\n",
    "\n",
    "We will first convert data to Pytorch tensors so they can be used in a neural network.\n",
    "To do that, you must first create a dictionnary that will map words to integers.\n",
    "Add to the dictionnary only words that are in the training set (be sure to understand why we do that!).\n",
    "\n",
    "Then, you can convert the data to tensors:\n",
    "- use tensors of longs: both the sentence and the label will be represented as integers, not floats!\n",
    "- these tensors do not require a gradient\n",
    "\n",
    "A tensor representing a sentence is composed of the integer representation of each word, e.g. [10, 256, 3, 4].\n",
    "Note that some words in the dev and test sets may not be in the dictionnary! (i.e. unknown words)\n",
    "You can just skip them."
   ]
  },
  {
   "cell_type": "code",
   "execution_count": 254,
   "metadata": {
    "colab": {},
    "colab_type": "code",
    "id": "rGLzYxinT_A0"
   },
   "outputs": [],
   "source": [
    "L=[]\n",
    "\n",
    "for ligne in txt_train:\n",
    "    for word in ligne:\n",
    "        L.append((word))\n",
    "tokens=list(set(L))"
   ]
  },
  {
   "cell_type": "code",
   "execution_count": 255,
   "metadata": {
    "colab": {},
    "colab_type": "code",
    "id": "BbKgpLPxT_A3"
   },
   "outputs": [],
   "source": [
    "dic = dict(zip(tokens,list(range(1,len(tokens)+1))))"
   ]
  },
  {
   "cell_type": "code",
   "execution_count": 256,
   "metadata": {
    "colab": {
     "base_uri": "https://localhost:8080/",
     "height": 34
    },
    "colab_type": "code",
    "id": "MVdQR50LT_A-",
    "outputId": "304b933d-36bb-49c3-dcd0-32f55710d53d"
   },
   "outputs": [
    {
     "data": {
      "text/plain": [
       "tensor([4938,  436, 4903, 4423, 3307,  678])"
      ]
     },
     "execution_count": 256,
     "metadata": {},
     "output_type": "execute_result"
    }
   ],
   "source": [
    "th.LongTensor([dic[word] for word in txt_dev[0] if word in dic])"
   ]
  },
  {
   "cell_type": "markdown",
   "metadata": {
    "colab_type": "text",
    "id": "OLECZJydT_BB"
   },
   "source": [
    "# Neural network definition\n",
    "\n",
    "The neural network should be defined as follows:\n",
    "- it takes as input a tensor that is a sequence of integers indexing word embeddings\n",
    "- it retrieves the word embeddings from an embedding table\n",
    "- it constructs the \"input\" of the MLP by summing over all embeddings (i.e. bag-of-word model)\n",
    "- it build a hidden represention using a MLP (1 layer? 2 layers? experiment! but maybe first try wihout any hidden layer...)\n",
    "- it project the hidden representation to the output space: it is a binary classification task, so the output space is a scalar where a negative (resp. positive) value means the review is negative (resp. positive)."
   ]
  },
  {
   "cell_type": "markdown",
   "metadata": {
    "colab_type": "text",
    "id": "nUga2dnPF43Y"
   },
   "source": [
    "**Without Hidden layer**:\n"
   ]
  },
  {
   "cell_type": "code",
   "execution_count": 257,
   "metadata": {
    "colab": {},
    "colab_type": "code",
    "id": "7Yc9GTwST_BC"
   },
   "outputs": [],
   "source": [
    "class CBOW_classifier(nn.Module):\n",
    "    def __init__(self, embedding_dim, vocab_size):\n",
    "        super(CBOW_classifier, self).__init__()\n",
    "        # To create an embedding table: https://pytorch.org/docs/stable/nn.html#torch.nn.Embedding\n",
    "        self.emb_table = th.nn.Embedding(num_embeddings=vocab_size, embedding_dim=embedding_dim)       \n",
    "\n",
    "        # output first layer\n",
    "        self.output = th.nn.Linear(embedding_dim,1)\n",
    "\n",
    "        th.nn.init.xavier_uniform_(self.output.weight.data) #init weights and bias\n",
    "        th.nn.init.zeros_(self.output.bias.data)\n",
    "        \n",
    "    def forward(self, inputs):\n",
    "        zi = self.emb_table(inputs) #embedding all words for each sequence\n",
    "        z = th.sum(zi ,dim=0) #sum embedding vectors for each sequence     \n",
    "        \n",
    "        output = th.sigmoid(self.output(z))\n",
    "        \n",
    "        return(output)"
   ]
  },
  {
   "cell_type": "markdown",
   "metadata": {
    "colab_type": "text",
    "id": "pD4kbgIbGA6L"
   },
   "source": [
    "**With One hidden layer:**"
   ]
  },
  {
   "cell_type": "code",
   "execution_count": 259,
   "metadata": {
    "colab": {},
    "colab_type": "code",
    "id": "qfmL7MK4T_BU"
   },
   "outputs": [],
   "source": [
    "class CBOW_classifier_1_hl(nn.Module):\n",
    "    def __init__(self, embedding_dim, vocab_size):\n",
    "        super(CBOW_classifier_1_hl, self).__init__()\n",
    "        # To create an embedding table: https://pytorch.org/docs/stable/nn.html#torch.nn.Embedding\n",
    "        self.emb_table = th.nn.Embedding(num_embeddings=vocab_size, embedding_dim=embedding_dim)       \n",
    "\n",
    "        # output first layer\n",
    "        self.hidden1 = th.nn.Linear(embedding_dim,40)\n",
    "        #First hidden layer\n",
    "        self.output = th.nn.Linear(40,1)\n",
    "\n",
    "        #Initialization\n",
    "        th.nn.init.xavier_uniform_(self.output.weight.data)\n",
    "        th.nn.init.zeros_(self.output.bias.data)\n",
    "        th.nn.init.xavier_uniform_(self.hidden1.weight.data)\n",
    "        th.nn.init.zeros_(self.hidden1.bias.data)\n",
    "        \n",
    "    def forward(self, inputs):\n",
    "        zi = self.emb_table(inputs) #embedding all words for each sequence\n",
    "        z = th.sum(zi ,dim=0) #sum embedding vectors for each sequence\n",
    "        \n",
    "        z= th.relu(self.hidden1(z))     \n",
    "        \n",
    "        output = th.sigmoid(self.output(z))\n",
    "        \n",
    "        return(output)"
   ]
  },
  {
   "cell_type": "markdown",
   "metadata": {
    "colab_type": "text",
    "id": "E3Jg43vKT_BF"
   },
   "source": [
    "## Loss function\n",
    "\n",
    "Create a loss function builder.\n",
    "\n",
    "- Pytorch loss functions are documented here: https://pytorch.org/docs/stable/nn.html#loss-functions\n",
    "- In our case, we are interested in *BCELoss* and *BCEWithLogitsLoss*. Read their documentation and choose the one that fits with your network output"
   ]
  },
  {
   "cell_type": "markdown",
   "metadata": {
    "colab_type": "text",
    "collapsed": true,
    "id": "8g78JTtHT_BK"
   },
   "source": [
    "## Training loop\n",
    "\n",
    "Write your training loop!\n",
    "\n",
    "- parameterizable number of epochs\n",
    "- at each epoch, print the mean loss and the dev accuracy"
   ]
  },
  {
   "cell_type": "code",
   "execution_count": 260,
   "metadata": {
    "colab": {},
    "colab_type": "code",
    "id": "pNbrhxKRT_BK"
   },
   "outputs": [],
   "source": [
    "def training(txt_train,label_train,txt_dev,label_dev,epochs,optimizer,stepsize,loss):\n",
    "\n",
    "    if optimizer=='SGD':\n",
    "      optimizer = th.optim.SGD(params=model.parameters(), lr =stepsize, weight_decay=1e-4)\n",
    "    if optimizer=='Adam':\n",
    "      optimizer = th.optim.Adam(params=model.parameters(), lr =stepsize, weight_decay=1e-4)\n",
    "\n",
    "    if loss=='BCELoss':\n",
    "      loss=th.nn.BCELoss()\n",
    "    if loss=='BCEWithLogitsLoss':\n",
    "      loss=th.nn.BCEWithLogitsLoss()\n",
    "\n",
    "\n",
    "    loss_train = []\n",
    "    mean_acc_train=[]\n",
    "    mean_loss_train=[]\n",
    "    mean_acc_dev=[]\n",
    "    mean_loss_dev=[]\n",
    "    best_score_dev=0\n",
    "    \n",
    "    idx_train = np.arange(len(txt_train))\n",
    "    #idx_dev = np.arange(len(txt_dev))\n",
    "\n",
    "    for i in range(epochs):\n",
    "\n",
    "        np.random.shuffle(idx_train)\n",
    "        #np.random.shuffle(idx_dev)\n",
    "        \n",
    "        model.train()\n",
    "        print('---------------------------')\n",
    "        print(\"Epoch {0}/{1}\".format(i+1, epochs))\n",
    "        \n",
    "        acc_train=0\n",
    "        loss_train=0\n",
    "        \n",
    "        for i in idx_train: \n",
    "            \n",
    "            sequence=txt_train[i]\n",
    "            label=label_train[i]\n",
    "\n",
    "            #gradient reset \n",
    "            optimizer.zero_grad()\n",
    "\n",
    "            sequence_of_id = th.LongTensor([dic[word] for word in sequence])\n",
    "            label = th.Tensor([label])\n",
    "\n",
    "            pred = model(sequence_of_id)\n",
    "            loss_sequence = loss(pred,label)\n",
    "            loss_train += loss_sequence.item()\n",
    "\n",
    "            #accuracy\n",
    "            if (pred>0.5 and label==1) or (pred<=0.5 and label==0):\n",
    "                  acc_train += 1\n",
    "\n",
    "            #backward optimisation of the parameters\n",
    "            loss_sequence.backward()\n",
    "            optimizer.step()\n",
    "\n",
    "        #accuracy train\n",
    "        print(\"accuracy on train =\",acc_train/len(txt_train))\n",
    "        print(\"loss on train =\",loss_train/len(txt_train))\n",
    "        print()\n",
    "        mean_acc_train.append(acc_train/len(txt_train))\n",
    "        mean_loss_train.append(loss_train/len(txt_train))\n",
    "        \n",
    "        acc_dev = 0\n",
    "        loss_dev = 0\n",
    "        \n",
    "        ##dev dataset\n",
    "        for sequence,label in zip(txt_dev,label_dev): \n",
    "            sequence_of_id = th.LongTensor([dic[word] for word in sequence if word in dic])\n",
    "            label = th.Tensor([label])\n",
    "\n",
    "            pred = model(sequence_of_id)\n",
    "            loss_sequence = loss(pred,label)\n",
    "            loss_dev += loss_sequence.item()\n",
    "\n",
    "            #accuracy\n",
    "            if (pred>0.5 and label==1) or (pred<=0.5 and label==0):\n",
    "                  acc_dev +=1\n",
    "\n",
    "            #best_score dev\n",
    "            if acc_dev/len(txt_dev)>best_score_dev:\n",
    "                  best_score_dev=acc_dev/len(txt_dev)\n",
    "            \n",
    "            #update of the stepsize\n",
    "            if acc_dev/len(txt_dev)<best_score_dev:\n",
    "                for p in optimizer.param_groups:\n",
    "                        p['lr']=stepsize*0.7\n",
    "          \n",
    "\n",
    "        # Dev accuracy & loss on the epoch\n",
    "        print(\"accuracy on dev =\",acc_dev/len(txt_dev))\n",
    "        mean_acc_dev.append(acc_dev/len(txt_dev))\n",
    "        mean_loss_dev.append(acc_dev/len(txt_dev))\n",
    "    \n",
    "    \n",
    "    \n",
    "    plt.plot((np.arange(epochs)+1),mean_loss_train)\n",
    "    plt.xlabel('Epochs')\n",
    "    plt.ylabel('Loss')\n",
    "    plt.show()\n",
    "\n",
    "    \n",
    "    plt.plot((np.arange(epochs)+1),mean_acc_train,label='acc_train')\n",
    "    plt.plot((np.arange(epochs)+1),mean_acc_dev,label='acc_dev')\n",
    "    plt.xlabel('Epochs')\n",
    "    plt.ylabel('Accuracy')\n",
    "    plt.legend()\n",
    "    plt.show()"
   ]
  },
  {
   "cell_type": "markdown",
   "metadata": {
    "colab_type": "text",
    "id": "3pmZJi61KoXs"
   },
   "source": [
    "## Without any hidden layer"
   ]
  },
  {
   "cell_type": "markdown",
   "metadata": {
    "colab_type": "text",
    "id": "2FuvIB4dGcz1"
   },
   "source": [
    "**Training** **with Adam:**"
   ]
  },
  {
   "cell_type": "code",
   "execution_count": 264,
   "metadata": {
    "colab": {
     "base_uri": "https://localhost:8080/",
     "height": 1000
    },
    "colab_type": "code",
    "id": "fxBDZMrDT_BN",
    "outputId": "fd45532d-2039-41e2-f07a-c7479c867b31"
   },
   "outputs": [
    {
     "name": "stdout",
     "output_type": "stream",
     "text": [
      "---------------------------\n",
      "Epoch 1/10\n",
      "accuracy on train = 0.5934567901234568\n",
      "loss on train = 0.7917899349311381\n",
      "\n",
      "accuracy on dev = 0.7111111111111111\n",
      "---------------------------\n",
      "Epoch 2/10\n",
      "accuracy on train = 0.7620987654320988\n",
      "loss on train = 0.5027151730445257\n",
      "\n",
      "accuracy on dev = 0.78\n",
      "---------------------------\n",
      "Epoch 3/10\n",
      "accuracy on train = 0.8164197530864198\n",
      "loss on train = 0.41813690835726786\n",
      "\n",
      "accuracy on dev = 0.7822222222222223\n",
      "---------------------------\n",
      "Epoch 4/10\n",
      "accuracy on train = 0.8297530864197531\n",
      "loss on train = 0.3861809923985117\n",
      "\n",
      "accuracy on dev = 0.7833333333333333\n",
      "---------------------------\n",
      "Epoch 5/10\n",
      "accuracy on train = 0.8403703703703703\n",
      "loss on train = 0.3678066888251536\n",
      "\n",
      "accuracy on dev = 0.7844444444444445\n",
      "---------------------------\n",
      "Epoch 6/10\n",
      "accuracy on train = 0.8455555555555555\n",
      "loss on train = 0.35361240002130917\n",
      "\n",
      "accuracy on dev = 0.7844444444444445\n",
      "---------------------------\n",
      "Epoch 7/10\n",
      "accuracy on train = 0.8523456790123457\n",
      "loss on train = 0.3445239018941661\n",
      "\n",
      "accuracy on dev = 0.7855555555555556\n",
      "---------------------------\n",
      "Epoch 8/10\n",
      "accuracy on train = 0.8548148148148148\n",
      "loss on train = 0.3379495630685462\n",
      "\n",
      "accuracy on dev = 0.7933333333333333\n",
      "---------------------------\n",
      "Epoch 9/10\n",
      "accuracy on train = 0.8581481481481481\n",
      "loss on train = 0.33130653123593806\n",
      "\n",
      "accuracy on dev = 0.7822222222222223\n",
      "---------------------------\n",
      "Epoch 10/10\n",
      "accuracy on train = 0.8632098765432099\n",
      "loss on train = 0.32792581525093834\n",
      "\n",
      "accuracy on dev = 0.7877777777777778\n"
     ]
    },
    {
     "data": {
      "image/png": "[encoded data removed]",
      "text/plain": [
       "<Figure size 432x288 with 1 Axes>"
      ]
     },
     "metadata": {
      "needs_background": "light"
     },
     "output_type": "display_data"
    },
    {
     "data": {
      "image/png": "[encoded data removed]",
      "text/plain": [
       "<Figure size 432x288 with 1 Axes>"
      ]
     },
     "metadata": {
      "needs_background": "light"
     },
     "output_type": "display_data"
    }
   ],
   "source": [
    "model = CBOW_classifier(embedding_dim=6,vocab_size=len(dic)+1)\n",
    "\n",
    "training(txt_train,\n",
    "         label_train, \n",
    "         txt_dev,\n",
    "         label_dev,\n",
    "         epochs=10,\n",
    "         optimizer='Adam',\n",
    "         stepsize=0.001,\n",
    "         loss='BCELoss')"
   ]
  },
  {
   "cell_type": "markdown",
   "metadata": {
    "colab_type": "text",
    "id": "-uPWk1CmBcNm"
   },
   "source": [
    "**Test with Adam optimizer:**"
   ]
  },
  {
   "cell_type": "code",
   "execution_count": 263,
   "metadata": {
    "colab": {
     "base_uri": "https://localhost:8080/",
     "height": 34
    },
    "colab_type": "code",
    "id": "Pc2g3BwQ4uj-",
    "outputId": "fabfacac-dfc0-45f3-dbe8-098dbde9a33d"
   },
   "outputs": [
    {
     "name": "stdout",
     "output_type": "stream",
     "text": [
      "accuracy on test = 0.786\n"
     ]
    }
   ],
   "source": [
    "acc_test=0\n",
    "##test dataset\n",
    "for sequence,label in zip(txt_test,label_test): \n",
    "    sequence_of_id = th.LongTensor([dic[word] for word in sequence if word in dic])\n",
    "    label = th.Tensor([label])\n",
    "\n",
    "    pred = model(sequence_of_id)\n",
    "\n",
    "    #accuracy\n",
    "    if (pred>0.5 and label==1) or (pred<=0.5 and label==0):\n",
    "      acc_test +=1\n",
    "\n",
    "print(\"accuracy on test =\",acc_test/len(txt_test))"
   ]
  },
  {
   "cell_type": "markdown",
   "metadata": {
    "colab_type": "text",
    "id": "uDAgfZcZKS89"
   },
   "source": [
    "**Training with SGD optimizer:**"
   ]
  },
  {
   "cell_type": "code",
   "execution_count": 266,
   "metadata": {
    "colab": {
     "base_uri": "https://localhost:8080/",
     "height": 1000
    },
    "colab_type": "code",
    "id": "Ys-ef2ItKD_h",
    "outputId": "a4e8a7ac-4296-42d8-d76e-39d25cdf8559",
    "scrolled": false
   },
   "outputs": [
    {
     "name": "stdout",
     "output_type": "stream",
     "text": [
      "---------------------------\n",
      "Epoch 1/10\n",
      "accuracy on train = 0.5591358024691359\n",
      "loss on train = 0.9763064141169523\n",
      "\n",
      "accuracy on dev = 0.5188888888888888\n",
      "---------------------------\n",
      "Epoch 2/10\n",
      "accuracy on train = 0.6611111111111111\n",
      "loss on train = 0.7272384177559892\n",
      "\n",
      "accuracy on dev = 0.6622222222222223\n",
      "---------------------------\n",
      "Epoch 3/10\n",
      "accuracy on train = 0.7323456790123457\n",
      "loss on train = 0.57024488789899\n",
      "\n",
      "accuracy on dev = 0.7233333333333334\n",
      "---------------------------\n",
      "Epoch 4/10\n",
      "accuracy on train = 0.755432098765432\n",
      "loss on train = 0.5196628013622852\n",
      "\n",
      "accuracy on dev = 0.7344444444444445\n",
      "---------------------------\n",
      "Epoch 5/10\n",
      "accuracy on train = 0.7764197530864198\n",
      "loss on train = 0.48062808029130427\n",
      "\n",
      "accuracy on dev = 0.7622222222222222\n",
      "---------------------------\n",
      "Epoch 6/10\n",
      "accuracy on train = 0.798395061728395\n",
      "loss on train = 0.4424746966978009\n",
      "\n",
      "accuracy on dev = 0.7677777777777778\n",
      "---------------------------\n",
      "Epoch 7/10\n",
      "accuracy on train = 0.8187654320987654\n",
      "loss on train = 0.4076603832719676\n",
      "\n",
      "accuracy on dev = 0.7855555555555556\n",
      "---------------------------\n",
      "Epoch 8/10\n",
      "accuracy on train = 0.8345679012345679\n",
      "loss on train = 0.37746849961105394\n",
      "\n",
      "accuracy on dev = 0.7677777777777778\n",
      "---------------------------\n",
      "Epoch 9/10\n",
      "accuracy on train = 0.8511111111111112\n",
      "loss on train = 0.3525512112912553\n",
      "\n",
      "accuracy on dev = 0.7622222222222222\n",
      "---------------------------\n",
      "Epoch 10/10\n",
      "accuracy on train = 0.8620987654320987\n",
      "loss on train = 0.3307734798476472\n",
      "\n",
      "accuracy on dev = 0.7544444444444445\n"
     ]
    },
    {
     "data": {
      "image/png": "[encoded data removed]",
      "text/plain": [
       "<Figure size 432x288 with 1 Axes>"
      ]
     },
     "metadata": {
      "needs_background": "light"
     },
     "output_type": "display_data"
    },
    {
     "data": {
      "image/png": "[encoded data removed]",
      "text/plain": [
       "<Figure size 432x288 with 1 Axes>"
      ]
     },
     "metadata": {
      "needs_background": "light"
     },
     "output_type": "display_data"
    }
   ],
   "source": [
    "model = CBOW_classifier(embedding_dim=6,vocab_size=len(dic)+1)\n",
    "\n",
    "training(txt_train,\n",
    "         label_train, \n",
    "         txt_dev,\n",
    "         label_dev,\n",
    "         epochs=10,\n",
    "         optimizer='SGD',\n",
    "         stepsize=0.1,\n",
    "         loss='BCELoss')"
   ]
  },
  {
   "cell_type": "markdown",
   "metadata": {
    "colab_type": "text",
    "id": "5lXqhDdXKRO9"
   },
   "source": [
    "**Test with SGD optimizer:**"
   ]
  },
  {
   "cell_type": "code",
   "execution_count": 267,
   "metadata": {
    "colab": {
     "base_uri": "https://localhost:8080/",
     "height": 34
    },
    "colab_type": "code",
    "id": "rmD4U-56KgEe",
    "outputId": "7bc18e56-f5a1-4a2c-e1ba-3891ba3fd33b"
   },
   "outputs": [
    {
     "name": "stdout",
     "output_type": "stream",
     "text": [
      "accuracy on test = 0.781\n"
     ]
    }
   ],
   "source": [
    "acc_test=0\n",
    "##test dataset\n",
    "for sequence,label in zip(txt_test,label_test): \n",
    "    sequence_of_id = th.LongTensor([dic[word] for word in sequence if word in dic])\n",
    "    label = th.Tensor([label])\n",
    "\n",
    "    pred = model(sequence_of_id)\n",
    "\n",
    "    #accuracy\n",
    "    if (pred>0.5 and label==1) or (pred<=0.5 and label==0):\n",
    "      acc_test +=1\n",
    "\n",
    "print(\"accuracy on test =\",acc_test/len(txt_test))"
   ]
  },
  {
   "cell_type": "markdown",
   "metadata": {
    "colab_type": "text",
    "id": "4F8_NEMpK1mn"
   },
   "source": [
    "## With one hidden layer"
   ]
  },
  {
   "cell_type": "markdown",
   "metadata": {
    "colab_type": "text",
    "id": "Qr_jOrRrGlH1"
   },
   "source": [
    "**Training with one hidden layer and Adam optimizer:**"
   ]
  },
  {
   "cell_type": "code",
   "execution_count": 261,
   "metadata": {
    "colab": {
     "base_uri": "https://localhost:8080/",
     "height": 1000
    },
    "colab_type": "code",
    "id": "aoacCSN_s6tb",
    "outputId": "caaba968-dab8-40cc-9400-15d4e36bc543"
   },
   "outputs": [
    {
     "name": "stdout",
     "output_type": "stream",
     "text": [
      "---------------------------\n",
      "Epoch 1/10\n",
      "accuracy on train = 0.6030864197530864\n",
      "loss on train = 0.659628688537165\n",
      "\n",
      "accuracy on dev = 0.6611111111111111\n",
      "---------------------------\n",
      "Epoch 2/10\n",
      "accuracy on train = 0.7248148148148148\n",
      "loss on train = 0.5473904707461644\n",
      "\n",
      "accuracy on dev = 0.7277777777777777\n",
      "---------------------------\n",
      "Epoch 3/10\n",
      "accuracy on train = 0.7882716049382716\n",
      "loss on train = 0.45756183833853425\n",
      "\n",
      "accuracy on dev = 0.7455555555555555\n",
      "---------------------------\n",
      "Epoch 4/10\n",
      "accuracy on train = 0.818395061728395\n",
      "loss on train = 0.4101393674317794\n",
      "\n",
      "accuracy on dev = 0.77\n",
      "---------------------------\n",
      "Epoch 5/10\n",
      "accuracy on train = 0.8379012345679012\n",
      "loss on train = 0.3739180359301785\n",
      "\n",
      "accuracy on dev = 0.78\n",
      "---------------------------\n",
      "Epoch 6/10\n",
      "accuracy on train = 0.8553086419753086\n",
      "loss on train = 0.3479995154715432\n",
      "\n",
      "accuracy on dev = 0.7866666666666666\n",
      "---------------------------\n",
      "Epoch 7/10\n",
      "accuracy on train = 0.8614814814814815\n",
      "loss on train = 0.3281229462023424\n",
      "\n",
      "accuracy on dev = 0.79\n",
      "---------------------------\n",
      "Epoch 8/10\n",
      "accuracy on train = 0.8722222222222222\n",
      "loss on train = 0.3110236701961354\n",
      "\n",
      "accuracy on dev = 0.7888888888888889\n",
      "---------------------------\n",
      "Epoch 9/10\n",
      "accuracy on train = 0.8781481481481481\n",
      "loss on train = 0.29917746109224835\n",
      "\n",
      "accuracy on dev = 0.7922222222222223\n",
      "---------------------------\n",
      "Epoch 10/10\n",
      "accuracy on train = 0.8811111111111111\n",
      "loss on train = 0.2882309185320447\n",
      "\n",
      "accuracy on dev = 0.7855555555555556\n"
     ]
    },
    {
     "data": {
      "image/png": "[encoded data removed]",
      "text/plain": [
       "<Figure size 432x288 with 1 Axes>"
      ]
     },
     "metadata": {
      "needs_background": "light"
     },
     "output_type": "display_data"
    },
    {
     "data": {
      "image/png": "[encoded data removed]",
      "text/plain": [
       "<Figure size 432x288 with 1 Axes>"
      ]
     },
     "metadata": {
      "needs_background": "light"
     },
     "output_type": "display_data"
    }
   ],
   "source": [
    "model = CBOW_classifier_1_hl(embedding_dim=6,vocab_size=len(dic)+1)\n",
    "\n",
    "training(txt_train,\n",
    "         label_train, \n",
    "         txt_dev,\n",
    "         label_dev,\n",
    "         epochs=10,\n",
    "         optimizer='Adam',\n",
    "         stepsize=0.001,\n",
    "         loss='BCELoss')"
   ]
  },
  {
   "cell_type": "markdown",
   "metadata": {
    "colab_type": "text",
    "id": "Va5lpN2ZHhJw"
   },
   "source": [
    "**Test:**"
   ]
  },
  {
   "cell_type": "code",
   "execution_count": 262,
   "metadata": {
    "colab": {
     "base_uri": "https://localhost:8080/",
     "height": 34
    },
    "colab_type": "code",
    "id": "SgtW3uNEHeh1",
    "outputId": "c74f4518-88a8-45a5-8905-6123cf96f679"
   },
   "outputs": [
    {
     "name": "stdout",
     "output_type": "stream",
     "text": [
      "accuracy on test = 0.786\n"
     ]
    }
   ],
   "source": [
    "acc_test=0\n",
    "##test dataset\n",
    "for sequence,label in zip(txt_test,label_test): \n",
    "    sequence_of_id = th.LongTensor([dic[word] for word in sequence if word in dic])\n",
    "    label = th.Tensor([label])\n",
    "\n",
    "    pred = model(sequence_of_id)\n",
    "\n",
    "    #accuracy\n",
    "    if (pred>0.5 and label==1) or (pred<=0.5 and label==0):\n",
    "        acc_test +=1\n",
    "  \n",
    "# Test accuracy & loss on the epoch\n",
    "print(\"accuracy on test =\",acc_test/len(txt_test))"
   ]
  },
  {
   "cell_type": "code",
   "execution_count": null,
   "metadata": {},
   "outputs": [],
   "source": [
    "from torch.autograd import Variable\n",
    "import torch.nn.functional as F\n",
    "\n",
    "class SimpleCNN(torch.nn.Module):\n",
    "    \n",
    "    #Our batch shape for input x is (3, 32, 32)\n",
    "    \n",
    "    def __init__(self):\n",
    "        super(SimpleCNN, self).__init__()\n",
    "        \n",
    "        #Input channels = embedding size, output channels = 18\n",
    "        \n",
    "        \n",
    "        self.conv1 = torch.nn.Conv2d(3, 18, kernel_size=3, stride=1, padding=1)\n",
    "        self.pool = torch.nn.MaxPool2d(kernel_size=2, stride=2, padding=0)\n",
    "        \n",
    "        #4608 input features, 64 output features (see sizing flow below)\n",
    "        self.fc1 = torch.nn.Linear(18 * 16 * 16, 64)\n",
    "        \n",
    "        #64 input features, 10 output features for our 10 defined classes\n",
    "        self.fc2 = torch.nn.Linear(64, 10)\n",
    "        \n",
    "    def forward(self, x):\n",
    "        \n",
    "        #Computes the activation of the first convolution\n",
    "        #Size changes from (3, 32, 32) to (18, 32, 32)\n",
    "        x = F.relu(self.conv1(x))\n",
    "        \n",
    "        #Size changes from (18, 32, 32) to (18, 16, 16)\n",
    "        x = self.pool(x)\n",
    "        \n",
    "        #Reshape data to input to the input layer of the neural net\n",
    "        #Size changes from (18, 16, 16) to (1, 4608)\n",
    "        #Recall that the -1 infers this dimension from the other given dimension\n",
    "        x = x.view(-1, 18 * 16 *16)\n",
    "        \n",
    "        #Computes the activation of the first fully connected layer\n",
    "        #Size changes from (1, 4608) to (1, 64)\n",
    "        x = F.relu(self.fc1(x))\n",
    "        \n",
    "        #Computes the second fully connected layer (activation applied later)\n",
    "        #Size changes from (1, 64) to (1, 10)\n",
    "        x = self.fc2(x)\n",
    "        return(x)"
   ]
  }
 ],
 "metadata": {
  "colab": {
   "collapsed_sections": [],
   "name": "opt7_lab_exercise_1.ipynb",
   "provenance": []
  },
  "kernelspec": {
   "display_name": "Python 3",
   "language": "python",
   "name": "python3"
  },
  "language_info": {
   "codemirror_mode": {
    "name": "ipython",
    "version": 3
   },
   "file_extension": ".py",
   "mimetype": "text/x-python",
   "name": "python",
   "nbconvert_exporter": "python",
   "pygments_lexer": "ipython3",
   "version": "3.7.3"
  }
 },
 "nbformat": 4,
 "nbformat_minor": 1
}
