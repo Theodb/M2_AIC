{
 "cells": [
  {
   "cell_type": "markdown",
   "metadata": {},
   "source": [
    "# Installation"
   ]
  },
  {
   "cell_type": "markdown",
   "metadata": {},
   "source": [
    "### Prerequiste\n",
    "- Python (en version >= 3.6)\n",
    "- jupyter\n",
    "- numpy\n",
    "- scikit-learn \n",
    "- matplotlib\n",
    "- pytorch"
   ]
  },
  {
   "cell_type": "markdown",
   "metadata": {},
   "source": [
    "### Install conda\n",
    "\n",
    "If you don't still have this environment configuration or you don't know out to configure it, an easy way is to download and install install miniconda : https://docs.conda.io/en/latest/miniconda.html"
   ]
  },
  {
   "cell_type": "markdown",
   "metadata": {},
   "source": [
    "### Create a dedicated python environment\n",
    "\n",
    "It's not mandatory but it's a good practice and allow to have a dedicated environnement where you can install the necessary package for this formation and let your default environment unchanged. To do this tape on a terminal (Linux or mac) or on conda prompt (Windows) : \n",
    "\n",
    "<code>conda create --name intro-pytorch-limsi python=3.7</code>\n",
    "\n",
    "Activate \"intro-pytorch-limsi\" environment :\n",
    "\n",
    "<code>source activate intro-pytorch-limsi (or conda activate intro-pytorch-limsi)</code>\n",
    "\n",
    "To exit the environmnent:\n",
    "\n",
    "<code>source deactivate (or conda deactivate)</code>"
   ]
  },
  {
   "cell_type": "markdown",
   "metadata": {},
   "source": [
    "### Package installation\n",
    "\n",
    "- Install numpy, scikit-learn, matplotlib and jupyter :\n",
    "\n",
    "<code>conda install numpy scikit-learn matplotlib jupyter</code>\n",
    "\n",
    "- Install pytorch (follow the command according to your OS on the official pytorch web site: https://pytorch.org/get-started/locally/\n",
    "\n",
    "For linux with conda  and python 3.7 and no GPU :\n",
    "\n",
    "<code>conda install pytorch-cpu torchvision-cpu -c pytorch</code>"
   ]
  },
  {
   "cell_type": "markdown",
   "metadata": {},
   "source": [
    "### Get the notebooks\n",
    "\n",
    "here: https://gitlab.com/sylvain.caillou/intro-pytorch-limsi-mai-2019\n",
    "\n",
    "Clone the notebooks:\n",
    "\n",
    "<code>git clone git@gitlab.com:sylvain.caillou/intro-pytorch-limsi-mai-2019.git</code>"
   ]
  },
  {
   "cell_type": "markdown",
   "metadata": {},
   "source": [
    "### Check installation and use the notebooks\n",
    "\n",
    "Activate \"intro-pytorch-limsi\" environment :\n",
    "\n",
    "<code>source activate intro-pytorch-limsi (or conda activate intro-pytorch-limsi)</code>\n",
    "\n",
    "Launch jupyter notebook interface:\n",
    "\n",
    "<code>jupyter-notebook</code>\n",
    "\n",
    "A page on your default internet browser should open (if not go to http://localhost:8888)\n",
    "\n",
    "Launch the installation notebook and run the next cell (CTRL+ENTER), if you don't have any errors you are ready to go."
   ]
  },
  {
   "cell_type": "code",
   "execution_count": null,
   "metadata": {
    "collapsed": true
   },
   "outputs": [],
   "source": [
    "import numpy as np\n",
    "import sklearn\n",
    "import matplotlib\n",
    "import torch\n",
    "\n",
    "print('numpy version : ', np.__version__)\n",
    "print('scikit-learn version : ', sklearn.__version__)\n",
    "print('matplotlib version : ', matplotlib.__version__)\n",
    "print('pytorch version', torch.__version__)"
   ]
  }
 ],
 "metadata": {
  "kernelspec": {
   "display_name": "Python 3",
   "language": "python",
   "name": "python3"
  },
  "language_info": {
   "codemirror_mode": {
    "name": "ipython",
    "version": 3
   },
   "file_extension": ".py",
   "mimetype": "text/x-python",
   "name": "python",
   "nbconvert_exporter": "python",
   "pygments_lexer": "ipython3",
   "version": "3.6.8"
  }
 },
 "nbformat": 4,
 "nbformat_minor": 2
}
