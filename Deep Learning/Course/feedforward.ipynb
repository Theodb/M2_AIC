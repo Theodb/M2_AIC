{
 "cells": [
  {
   "cell_type": "code",
   "execution_count": 1,
   "metadata": {},
   "outputs": [
    {
     "name": "stdout",
     "output_type": "stream",
     "text": [
      "WARNING:tensorflow:From C:\\Users\\Admin\\Anaconda3\\lib\\site-packages\\tensorflow\\python\\framework\\op_def_library.py:263: colocate_with (from tensorflow.python.framework.ops) is deprecated and will be removed in a future version.\n",
      "Instructions for updating:\n",
      "Colocations handled automatically by placer.\n",
      "\n",
      "\n",
      "\n",
      "Result of the forward propagation: \n",
      "\n",
      "[[-0.18255146 -0.9999999  -0.80562526]]\n"
     ]
    }
   ],
   "source": [
    "# Import the TensorFlow library\n",
    "import tensorflow as tf\n",
    "# Import numpy for some array reshaping\n",
    "import numpy as np\n",
    "\n",
    "# Create an empty graph, that will be filled with operation nodes later\n",
    "main_graph=tf.Graph()\n",
    "\n",
    "# Register this graph as default graph. \n",
    "# All operations within this context will become operation nodes in this graph\n",
    "with main_graph.as_default():\n",
    "    \n",
    "    # Placeholder for data input\n",
    "    input_=tf.placeholder(dtype=tf.float32, shape=[1,5], name='input')\n",
    "\n",
    "    ###Define the weight matrices###\n",
    "\n",
    "    # Weight matrix, that connects the input and the 1st hidden layer\n",
    "    W1=tf.get_variable(name='W1', shape=[5,10], initializer=tf.random_normal_initializer)\n",
    "    # Weight matrix, that connects the 1st hidden layer and the 2nd hidden layer\n",
    "    W2=tf.get_variable(name='W2', shape=[10,10], initializer=tf.random_normal_initializer)\n",
    "    # Weight matrix, that connects the 2nd hidden layer and the 3rd hidden layer\n",
    "    W3=tf.get_variable(name='W3', shape=[10,10], initializer=tf.random_normal_initializer)\n",
    "    # Weight matrix, that connects the 3rd hidden layer and the output layer\n",
    "    W4=tf.get_variable(name='W4', shape=[10,3], initializer=tf.random_normal_initializer)\n",
    "         \n",
    "    ####Define the forward propagation operations###\n",
    "      \n",
    "    #1st hidden layer\n",
    "    z1=tf.matmul(input_, W1)\n",
    "    a1=tf.nn.tanh(z1)\n",
    "    \n",
    "    #2nd hidden layer\n",
    "    z2=tf.matmul(a1, W2)\n",
    "    a2=tf.nn.tanh(z2)\n",
    "    \n",
    "    #3rd hidden layer\n",
    "    z3=tf.matmul(a2, W3)\n",
    "    a3=tf.nn.tanh(z3)\n",
    "    \n",
    "    #output layer\n",
    "    z_out=tf.matmul(a3, W4)\n",
    "    output=tf.nn.tanh(z_out)\n",
    "\n",
    "\n",
    "# Create a session to execute the dataflow graph   \n",
    "with tf.Session(graph=main_graph) as sess:\n",
    "    \n",
    "    # Initialize the weight matrix\n",
    "    sess.run(tf.global_variables_initializer())\n",
    "    \n",
    "    # Define some random input\n",
    "    x=np.array([1.0, 2.5, 0.7, 3.0, 9.0]).reshape([1,5])\n",
    "    \n",
    "    # Start the forward propagation step\n",
    "    prediction=sess.run(output, feed_dict={input_: x})\n",
    "    \n",
    "    print('\\n\\n\\nResult of the forward propagation: \\n')\n",
    "    print(prediction)\n",
    "\n"
   ]
  },
  {
   "cell_type": "code",
   "execution_count": null,
   "metadata": {},
   "outputs": [],
   "source": []
  },
  {
   "cell_type": "code",
   "execution_count": null,
   "metadata": {},
   "outputs": [],
   "source": []
  }
 ],
 "metadata": {
  "kernelspec": {
   "display_name": "Python 3",
   "language": "python",
   "name": "python3"
  },
  "language_info": {
   "codemirror_mode": {
    "name": "ipython",
    "version": 3
   },
   "file_extension": ".py",
   "mimetype": "text/x-python",
   "name": "python",
   "nbconvert_exporter": "python",
   "pygments_lexer": "ipython3",
   "version": "3.7.3"
  }
 },
 "nbformat": 4,
 "nbformat_minor": 2
}
