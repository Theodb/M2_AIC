{
 "cells": [
  {
   "cell_type": "markdown",
   "metadata": {},
   "source": [
    "# References\n",
    "\n",
    "Autograd mechanism : https://pytorch.org/docs/stable/notes/autograd.html\n",
    "\n",
    "PyTorch documentation : https://pytorch.org/docs/stable/index.html\n",
    "\n",
    "Justin Johnson, Learning PyTorch by Example : https://pytorch.org/tutorials/beginner/pytorch_with_examples.html\n",
    "\n",
    "Stefan Otte: Deep Neural Networks with PyTorch | PyData Berlin 2018 : https://github.com/sotte/pytorch_tutorial\n",
    "\n"
   ]
  }
 ],
 "metadata": {
  "kernelspec": {
   "display_name": "Python 3",
   "language": "python",
   "name": "python3"
  },
  "language_info": {
   "codemirror_mode": {
    "name": "ipython",
    "version": 3
   },
   "file_extension": ".py",
   "mimetype": "text/x-python",
   "name": "python",
   "nbconvert_exporter": "python",
   "pygments_lexer": "ipython3",
   "version": "3.6.8"
  }
 },
 "nbformat": 4,
 "nbformat_minor": 2
}
