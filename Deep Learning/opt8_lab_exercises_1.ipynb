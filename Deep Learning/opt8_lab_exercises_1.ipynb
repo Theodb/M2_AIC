{
 "cells": [
  {
   "cell_type": "markdown",
   "metadata": {},
   "source": [
    "# Practical classes\n",
    "\n",
    "All exercices will be in Python. It is important that you keep track of exercices and structure you code correctly (e.g. create funcions that you can re-use later)\n",
    "\n",
    "We will use Jupyter notebooks (formerly known as IPython). You can read the following courses for help:\n",
    "* Python and numpy: http://cs231n.github.io/python-numpy-tutorial/\n",
    "* Jupyter / IPython : http://cs231n.github.io/ipython-tutorial/\n",
    "\n",
    "To run this notebook:\n",
    "* create a directory somewhere on your filesystem\n",
    "* download the .ipynb from the course website: http://teaching.caio-corro.fr/2019-2020/OPT8/\n",
    "* move the .ipynb into the directory\n",
    "* from a terminal:\n",
    "    * cd /directory/path\n",
    "    * jupyter notebook\n",
    "\n",
    "Each group must send me their work by e-mail (one mail per group) before next course:\n",
    "* complete the code with comments\n",
    "* quick report on what's going one, experimental results etc.\n",
    "\n",
    "If you don't want to use the notebook, send me the python code + a PDF with plots and answers.\n",
    "\n",
    "\n",
    "# Neural network: first experiments with a linear model\n",
    "\n",
    "In this first lab exercise we will code a neural network using numpy, without a neural network library.\n",
    "Next week, the lab exercise will be to extend this program with hidden layers and activation functions.\n",
    "\n",
    "The task is digit recognition: the neural network has to predict which digit in $\\{0...9\\}$ is written in the input picture. We will use the [MNIST](http://yann.lecun.com/exdb/mnist/) dataset, a standard benchmark in machine learning.\n",
    "\n",
    "The model is a simple linear  classifier $o = \\operatorname{softmax}(Wx + b)$ where:\n",
    "* $x$ is an input image that is represented as a column vector, each value being the \"color\" of a pixel\n",
    "* $W$ and $b$ are the parameters of the classifier\n",
    "* $\\operatorname{softmax}$ transforms the output weight (logits) into probabilities\n",
    "* $o$ is column vector that contains the probability of each category\n",
    "\n",
    "We will train this model via stochastic gradient descent by minimizing the negative log-likelihood of the data:\n",
    "$$\n",
    "    \\hat{W}, \\hat{b} = \\operatorname{argmin}_{W, b} \\sum_{x, y} - \\log p(y | x)\n",
    "$$\n",
    "Although this is a linear model, it classifies raw data without any manual feature extraction step."
   ]
  },
  {
   "cell_type": "code",
   "execution_count": 105,
   "metadata": {},
   "outputs": [],
   "source": [
    "# import libs that we will use\n",
    "import os\n",
    "import numpy as np\n",
    "import matplotlib.pyplot as plt\n",
    "import math\n",
    "\n",
    "# To load the data we will use the script of Gaetan Marceau Caron\n",
    "# You can download it from the course webiste and move it to the same directory that contains this ipynb file\n",
    "import dataset_loader\n",
    "\n",
    "%matplotlib inline"
   ]
  },
  {
   "cell_type": "markdown",
   "metadata": {},
   "source": [
    "# 1. Data"
   ]
  },
  {
   "cell_type": "code",
   "execution_count": 106,
   "metadata": {},
   "outputs": [],
   "source": [
    "# Download mnist dataset \n",
    "if(\"mnist.pkl.gz\" not in os.listdir(\".\")):\n",
    "    !wget http://deeplearning.net/data/mnist/mnist.pkl.gz\n",
    "\n",
    "# if you have it somewhere else, you can comment the lines above\n",
    "# and overwrite the path below\n",
    "mnist_path = \"./mnist.pkl.gz\""
   ]
  },
  {
   "cell_type": "code",
   "execution_count": 107,
   "metadata": {},
   "outputs": [],
   "source": [
    "# load the 3 splits\n",
    "train_data, dev_data, test_data = dataset_loader.load_mnist(mnist_path)"
   ]
  },
  {
   "cell_type": "markdown",
   "metadata": {},
   "source": [
    "Each dataset is a list with two elemets:\n",
    "* data[0] contains images\n",
    "* data[1] contains labels\n",
    "\n",
    "Data is stored as numpy.ndarray. You can use data[0][i] to retrieve image number i and data[1][i] to retrieve its label."
   ]
  },
  {
   "cell_type": "code",
   "execution_count": 1,
   "metadata": {},
   "outputs": [
    {
     "ename": "NameError",
     "evalue": "name 'train_data' is not defined",
     "output_type": "error",
     "traceback": [
      "\u001b[1;31m---------------------------------------------------------------------------\u001b[0m",
      "\u001b[1;31mNameError\u001b[0m                                 Traceback (most recent call last)",
      "\u001b[1;32m<ipython-input-1-554bcb049fd7>\u001b[0m in \u001b[0;36m<module>\u001b[1;34m\u001b[0m\n\u001b[1;32m----> 1\u001b[1;33m \u001b[0mprint\u001b[0m\u001b[1;33m(\u001b[0m\u001b[0mtype\u001b[0m\u001b[1;33m(\u001b[0m\u001b[0mtrain_data\u001b[0m\u001b[1;33m)\u001b[0m\u001b[1;33m)\u001b[0m\u001b[1;33m\u001b[0m\u001b[1;33m\u001b[0m\u001b[0m\n\u001b[0m\u001b[0;32m      2\u001b[0m \u001b[0mprint\u001b[0m\u001b[1;33m(\u001b[0m\u001b[0mtype\u001b[0m\u001b[1;33m(\u001b[0m\u001b[0mtrain_data\u001b[0m\u001b[1;33m[\u001b[0m\u001b[1;36m0\u001b[0m\u001b[1;33m]\u001b[0m\u001b[1;33m)\u001b[0m\u001b[1;33m)\u001b[0m\u001b[1;33m\u001b[0m\u001b[1;33m\u001b[0m\u001b[0m\n\u001b[0;32m      3\u001b[0m \u001b[0mprint\u001b[0m\u001b[1;33m(\u001b[0m\u001b[0mtype\u001b[0m\u001b[1;33m(\u001b[0m\u001b[0mtrain_data\u001b[0m\u001b[1;33m[\u001b[0m\u001b[1;36m1\u001b[0m\u001b[1;33m]\u001b[0m\u001b[1;33m)\u001b[0m\u001b[1;33m)\u001b[0m\u001b[1;33m\u001b[0m\u001b[1;33m\u001b[0m\u001b[0m\n\u001b[0;32m      4\u001b[0m \u001b[0mprint\u001b[0m\u001b[1;33m(\u001b[0m\u001b[0mtype\u001b[0m\u001b[1;33m(\u001b[0m\u001b[0mtrain_data\u001b[0m\u001b[1;33m[\u001b[0m\u001b[1;36m0\u001b[0m\u001b[1;33m]\u001b[0m\u001b[1;33m[\u001b[0m\u001b[1;36m0\u001b[0m\u001b[1;33m]\u001b[0m\u001b[1;33m)\u001b[0m\u001b[1;33m)\u001b[0m\u001b[1;33m\u001b[0m\u001b[1;33m\u001b[0m\u001b[0m\n\u001b[0;32m      5\u001b[0m \u001b[0mprint\u001b[0m\u001b[1;33m(\u001b[0m\u001b[0mtype\u001b[0m\u001b[1;33m(\u001b[0m\u001b[0mtrain_data\u001b[0m\u001b[1;33m[\u001b[0m\u001b[1;36m1\u001b[0m\u001b[1;33m]\u001b[0m\u001b[1;33m[\u001b[0m\u001b[1;36m0\u001b[0m\u001b[1;33m]\u001b[0m\u001b[1;33m)\u001b[0m\u001b[1;33m)\u001b[0m\u001b[1;33m\u001b[0m\u001b[1;33m\u001b[0m\u001b[0m\n",
      "\u001b[1;31mNameError\u001b[0m: name 'train_data' is not defined"
     ]
    }
   ],
   "source": [
    "print(type(train_data))\n",
    "print(type(train_data[0]))\n",
    "print(type(train_data[1]))\n",
    "print(type(train_data[0][0]))\n",
    "print(type(train_data[1][0]))"
   ]
  },
  {
   "cell_type": "markdown",
   "metadata": {},
   "source": [
    "As expected, train data is a list of 2 elements, the first being an array of images, each image being an array itself and the second being an array of integer, each integer corresponding to one label"
   ]
  },
  {
   "cell_type": "code",
   "execution_count": 109,
   "metadata": {},
   "outputs": [
    {
     "name": "stdout",
     "output_type": "stream",
     "text": [
      "label: 1\n"
     ]
    },
    {
     "data": {
      "text/plain": [
       "<matplotlib.image.AxesImage at 0x1fb0040aba8>"
      ]
     },
     "execution_count": 109,
     "metadata": {},
     "output_type": "execute_result"
    },
    {
     "data": {
      "image/png": "[encoded data removed]",
      "text/plain": [
       "<Figure size 432x288 with 1 Axes>"
      ]
     },
     "metadata": {
      "needs_background": "light"
     },
     "output_type": "display_data"
    }
   ],
   "source": [
    "index = 900\n",
    "label = train_data[1][index]\n",
    "picture = train_data[0][index]\n",
    "\n",
    "print(\"label: %i\" % label)\n",
    "plt.imshow(picture.reshape(28,28), cmap='Greys')"
   ]
  },
  {
   "cell_type": "markdown",
   "metadata": {},
   "source": [
    "Here we can see that the printed label is coherent with the corresponding image."
   ]
  },
  {
   "cell_type": "markdown",
   "metadata": {},
   "source": [
    "**Question:** What are the characteristics of training data? (number of samples, dimension of input, number of labels)\n",
    "\n",
    "The documentation of ndarray class is available here: https://docs.scipy.org/doc/numpy/reference/generated/numpy.ndarray.html"
   ]
  },
  {
   "cell_type": "code",
   "execution_count": 110,
   "metadata": {},
   "outputs": [],
   "source": [
    "def getDimDataset(data):\n",
    "    n_training = len(data[0])\n",
    "    size_im=len(data[0][0])\n",
    "    n_feature = len([1])\n",
    "    n_label = len(test_data[0])\n",
    "    return n_training, n_feature, n_label,size_im"
   ]
  },
  {
   "cell_type": "code",
   "execution_count": 111,
   "metadata": {},
   "outputs": [
    {
     "data": {
      "text/plain": [
       "(50000, 1, 10000, 784)"
      ]
     },
     "execution_count": 111,
     "metadata": {},
     "output_type": "execute_result"
    }
   ],
   "source": [
    "getDimDataset(train_data)"
   ]
  },
  {
   "cell_type": "markdown",
   "metadata": {},
   "source": [
    "Train data is of size 50 000 while test data is of size 10 000. for each data split, images are 784 pixels long and the label is just an integer"
   ]
  },
  {
   "cell_type": "markdown",
   "metadata": {},
   "source": [
    "# 1. Building functions\n",
    "\n",
    "We now need to build functions that are required for the neural network.\n",
    "$$\n",
    "    o = \\operatorname{softmax}(Wx + b) \\\\\n",
    "    L(x, y) = -\\log p(y | x) = -\\log o[y]\n",
    "$$\n",
    "\n",
    "Note that in numpy, operator @ is used for matrix multiplication while * is used for element-wise multiplication.\n",
    "The documentation for linear algebra in numpy is available here: https://docs.scipy.org/doc/numpy/reference/routines.linalg.html\n",
    "\n",
    "The first operation is the affine transformation $v = Wx + b$.\n",
    "To compute the gradient, it is often convenient to write the forward pass as $v[i] = b[i] + \\sum_j W[i, j] x[j]$."
   ]
  },
  {
   "cell_type": "code",
   "execution_count": 112,
   "metadata": {},
   "outputs": [],
   "source": [
    "# Input:\n",
    "# - W: projection matrix\n",
    "# - b: bias\n",
    "# - x: input features\n",
    "# Output:\n",
    "# - vector\n",
    "def affine_transform(W, b, x):\n",
    "    return W@x+b\n",
    "\n",
    "# Input:\n",
    "# - W: projection matrix\n",
    "# - b: bias\n",
    "# - x: input features\n",
    "# - g: incoming gradient\n",
    "# Output:\n",
    "# - g_W: gradient wrt W\n",
    "# - g_b: gradient wrt b\n",
    "\n",
    "def backward_affine_transform(W, b, x, g):\n",
    "    g_W = g.reshape(-1,1)@x.reshape(1,-1)\n",
    "    g_b = g\n",
    "    return g_W, g_b\n"
   ]
  },
  {
   "cell_type": "markdown",
   "metadata": {},
   "source": [
    "The next cell is a (too simple) test of affine_transform and backward_affine_transform.\n",
    "It should run without error if your implementation is correct."
   ]
  },
  {
   "cell_type": "code",
   "execution_count": 113,
   "metadata": {
    "scrolled": true
   },
   "outputs": [],
   "source": [
    "W = np.asarray([[ 0.63024213,  0.53679375, -0.92079597],\n",
    " [-0.1155045,   0.62780356, -0.67961305],\n",
    " [ 0.08465286, -0.06561815, -0.39778322],\n",
    " [ 0.8242268,   0.58907262, -0.52208052],\n",
    " [-0.43894227, -0.56993247,  0.09520727]])\n",
    "b = np.asarray([ 0.42706842,  0.69636598, -0.85611933, -0.08682553,  0.83160079])\n",
    "x = np.asarray([-0.32809223, -0.54751413,  0.81949319])\n",
    "\n",
    "o_gold = np.asarray([-0.82819732, -0.16640748, -1.17394705, -1.10761496,  1.36568213])\n",
    "g = np.asarray([-0.08938868,  0.44083873, -0.2260743,  -0.96196726, -0.53428805])\n",
    "g_W_gold = np.asarray([[ 0.02932773,  0.04894156, -0.07325341],\n",
    " [-0.14463576, -0.24136543,  0.36126434],\n",
    " [ 0.07417322,  0.12377887, -0.18526635],\n",
    " [ 0.31561399,  0.52669067, -0.78832562],\n",
    " [ 0.17529576,  0.29253025, -0.43784542]])\n",
    "g_b_gold = np.asarray([-0.08938868,  0.44083873, -0.2260743,  -0.96196726, -0.53428805])\n",
    "\n",
    "\n",
    "# quick test of the forward pass\n",
    "o = affine_transform(W, b, x)\n",
    "if o.shape != o_gold.shape:\n",
    "    raise RuntimeError(\"Unexpected output dimension: got %s, expected %s\" % (str(o.shape), str(o_gold.shape)))\n",
    "if not np.allclose(o, o_gold):\n",
    "    raise RuntimeError(\"Output of the affine_transform function is incorrect\")\n",
    "\n",
    "# quick test if the backward pass\n",
    "g_W, g_b = backward_affine_transform(W, b, x, g)\n",
    "if g_W.shape != g_W_gold.shape:\n",
    "        raise RuntimeError(\"Unexpected gradient dimension for W: got %s, expected %s\" % (str(g_W.shape), str(g_W_gold.shape)))\n",
    "if g_b.shape != g_b_gold.shape:\n",
    "        raise RuntimeError(\"Unexpected gradient dimension for b: got %s, expected %s\" % (str(g_b.shape), str(g_b_gold.shape)))\n",
    "if not np.allclose(g_W, g_W_gold):\n",
    "    raise RuntimeError(\"Gradient of W is incorrect\")\n",
    "if not np.allclose(g_b, g_b_gold):\n",
    "    raise RuntimeError(\"Gradient of b is incorrect\")"
   ]
  },
  {
   "cell_type": "markdown",
   "metadata": {},
   "source": [
    "Our functions pass this text block above without any problem "
   ]
  },
  {
   "cell_type": "markdown",
   "metadata": {},
   "source": [
    "The softmax function:\n",
    "$$\n",
    "     o = \\operatorname{softmax}(w)\n",
    "$$\n",
    "where $w$ is a vector of logits in $\\mathbb R$ and $o$ a vector of probabilities such that:\n",
    "$$\n",
    "    o[i] = \\frac{\\exp(w[i])}{\\sum_j \\exp(w[j])}\n",
    "$$\n",
    "We do not need to implement the backward for this experiment."
   ]
  },
  {
   "cell_type": "code",
   "execution_count": 114,
   "metadata": {},
   "outputs": [],
   "source": [
    "# Input:\n",
    "# - x: vector of logits\n",
    "# Output\n",
    "# - vector of probabilities\n",
    "def softmax(x):\n",
    "    b = np.max(x)\n",
    "    y = np.exp(x - b)\n",
    "    return y / y.sum()"
   ]
  },
  {
   "cell_type": "markdown",
   "metadata": {},
   "source": [
    "**WARNING:** is your implementation numerically stable?\n",
    "\n",
    "The $\\exp$ function results in computations that overflows (i.e. results in numbers that cannot be represented with floating point numbers).\n",
    "Therefore, it is always convenient to use the following trick to improve stability: https://timvieira.github.io/blog/post/2014/02/11/exp-normalize-trick/"
   ]
  },
  {
   "cell_type": "code",
   "execution_count": 115,
   "metadata": {},
   "outputs": [
    {
     "name": "stdout",
     "output_type": "stream",
     "text": [
      "[1. 0. 0.]\n"
     ]
    }
   ],
   "source": [
    "# Example for testing the numerical stability of softmax\n",
    "# It should return [1., 0. ,0.], not [nan, 0., 0.]\n",
    "z = [1000000000000,1,100]\n",
    "print(softmax(z))"
   ]
  },
  {
   "cell_type": "markdown",
   "metadata": {},
   "source": [
    "**Question**: from the result of the cell above, what can you say about the softmax output, even when it is stable?"
   ]
  },
  {
   "cell_type": "markdown",
   "metadata": {},
   "source": [
    "The Softmax output is stable, passes the test block and gives the expected results"
   ]
  },
  {
   "cell_type": "code",
   "execution_count": 116,
   "metadata": {},
   "outputs": [],
   "source": [
    "# Just too simple test for the softmax function\n",
    "x = np.asarray([0.92424884, -0.92381088, -0.74666024, -0.87705478, -0.54797015])\n",
    "y_gold = np.asarray([0.57467369, 0.09053556, 0.10808233, 0.09486917, 0.13183925])\n",
    "\n",
    "y = softmax(x)\n",
    "if not np.allclose(y, y_gold):\n",
    "    raise RuntimeError(\"Output of the softmax function is incorrect\")"
   ]
  },
  {
   "cell_type": "markdown",
   "metadata": {},
   "source": [
    "Finally, we build the loss function and its gradient for training the network.\n",
    "\n",
    "The loss function is the negative log-likelihood defined as:\n",
    "$$\n",
    "    \\mathcal L(x, gold) = -\\log \\frac{\\exp(x[gold])}{\\sum_j \\exp(x[j])} = -x[gold] + \\log \\sum_j \\exp(x[j])\n",
    "$$\n",
    "This function is also called the cross-entropy loss (in Pytorch, different names are used dependending if the inputs are probabilities or raw logits).\n",
    "\n",
    "Similarly to the softmax, we have to rely on the log-sum-exp trick to stabilize the computation: https://timvieira.github.io/blog/post/2014/02/11/exp-normalize-trick/"
   ]
  },
  {
   "cell_type": "code",
   "execution_count": 117,
   "metadata": {},
   "outputs": [],
   "source": [
    "# Input:\n",
    "# - x: vector of logits\n",
    "# - gold: index of the gold class\n",
    "# Output:\n",
    "# - scalare equal to -log(softmax(x)[gold])\n",
    "def nll(x, gold):\n",
    "    return -x[gold] + np.log(sum(np.exp(x)))\n",
    "\n",
    "# Input:\n",
    "# - x: vector of logits\n",
    "# - gold: index of the gold class\n",
    "# - gradient (scalar)\n",
    "# Output:\n",
    "# - gradient wrt x\n",
    "def backward_nll(x, gold, g):\n",
    "    g_x = np.zeros(len(x))\n",
    "    g_x[gold]= -1\n",
    "    g_x += softmax(x)\n",
    "    g_x = g_x * g\n",
    "    return g_x"
   ]
  },
  {
   "cell_type": "code",
   "execution_count": 118,
   "metadata": {},
   "outputs": [],
   "source": [
    "# test\n",
    "x = np.asarray([-0.13590009, -0.83649656,  0.03130881,  0.42559402,  0.08488182])\n",
    "y_gold = 1.5695014420179738\n",
    "g_gold = np.asarray([ 0.17609875,  0.08739591, -0.79185107,  0.30875221,  0.2196042 ])\n",
    "\n",
    "y = nll(x, 2)\n",
    "g = backward_nll(x, 2, 1.)\n",
    "\n",
    "if not np.allclose(y, y_gold):\n",
    "    raise RuntimeError(\"Output is incorrect\")\n",
    "\n",
    "if g.shape != g_gold.shape:\n",
    "        raise RuntimeError(\"Unexpected gradient dimension: got %s, expected %s\" % (str(g.shape), str(g_gold.shape)))\n",
    "if not np.allclose(g, g_gold):\n",
    "    raise RuntimeError(\"Gradient is incorrect\")"
   ]
  },
  {
   "cell_type": "markdown",
   "metadata": {},
   "source": [
    "The following code test the implementation of the gradient using finite-difference approximation, see: https://timvieira.github.io/blog/post/2017/04/21/how-to-test-gradient-implementations/\n",
    "\n",
    "Your implementation should pass this test."
   ]
  },
  {
   "cell_type": "markdown",
   "metadata": {},
   "source": [
    "Our implementation passes the test"
   ]
  },
  {
   "cell_type": "code",
   "execution_count": 119,
   "metadata": {},
   "outputs": [],
   "source": [
    "# this is python re-implementation of the test from the Dynet library\n",
    "# https://github.com/clab/dynet/blob/master/dynet/grad-check.cc\n",
    "\n",
    "def is_almost_equal(grad, computed_grad):\n",
    "    #print(grad, computed_grad)\n",
    "    f = abs(grad - computed_grad)\n",
    "    m = max(abs(grad), abs(computed_grad))\n",
    "\n",
    "    if f > 0.01 and m > 0.:\n",
    "        f /= m\n",
    "\n",
    "    if f > 0.01 or math.isnan(f):\n",
    "        return False\n",
    "    else:\n",
    "        return True\n",
    "\n",
    "def check_gradient(function, weights, true_grad, alpha = 1e-3):\n",
    "    # because input can be of any dimension,\n",
    "    # we build a view of the underlying data with the .shape(-1) method\n",
    "    # then we can access any element of the tensor as a elements of a list\n",
    "    # with a single dimension\n",
    "    weights_view = weights.reshape(-1)\n",
    "    true_grad_view = true_grad.reshape(-1)\n",
    "    for i in range(weights_view.shape[0]):\n",
    "        old = weights_view[i]\n",
    "\n",
    "        weights_view[i] = old - alpha\n",
    "        value_left = function(weights).reshape(-1)\n",
    "\n",
    "        weights_view[i] = old + alpha\n",
    "        value_right = function(weights).reshape(-1)\n",
    "\n",
    "        weights_view[i] = old\n",
    "        grad = (value_right - value_left) / (2. * alpha)\n",
    "\n",
    "        if not is_almost_equal(grad, true_grad_view[i]):\n",
    "            return False\n",
    "\n",
    "        return True"
   ]
  },
  {
   "cell_type": "code",
   "execution_count": 120,
   "metadata": {},
   "outputs": [
    {
     "name": "stdout",
     "output_type": "stream",
     "text": [
      "True\n",
      "True\n",
      "True\n"
     ]
    }
   ],
   "source": [
    "# Test the affine transformation\n",
    "\n",
    "x = np.random.uniform(-1, 1, (5,))\n",
    "W = np.random.uniform(-1, 1, (3, 5))\n",
    "b = np.random.uniform(-1, 1, (3,))\n",
    "\n",
    "for i in range(3):\n",
    "    y = affine_transform(W, b, x)\n",
    "    g = np.zeros_like(y)\n",
    "    g[i] = 1.\n",
    "    g_W, _ = backward_affine_transform(W, b, x, g)\n",
    "    print(check_gradient(lambda W: affine_transform(W, b, x)[i], W, g_W))"
   ]
  },
  {
   "cell_type": "code",
   "execution_count": 121,
   "metadata": {},
   "outputs": [
    {
     "name": "stdout",
     "output_type": "stream",
     "text": [
      "True\n",
      "True\n",
      "True\n",
      "True\n",
      "True\n"
     ]
    }
   ],
   "source": [
    "# test the negative likelihood loss\n",
    "\n",
    "x = np.random.uniform(-1, 1, (5,))\n",
    "\n",
    "for gold in range(5):\n",
    "    y = nll(x, gold)\n",
    "    g_y = backward_nll(x, gold, 1.)\n",
    "\n",
    "    print(check_gradient(lambda x: nll(x, gold), x, g_y))"
   ]
  },
  {
   "cell_type": "markdown",
   "metadata": {},
   "source": [
    "Again, our functions pass all these tests"
   ]
  },
  {
   "cell_type": "markdown",
   "metadata": {},
   "source": [
    "# 2. Parameter initialization\n",
    "\n",
    "We are now going to build the function that will be used to initialize the parameters of the neural network before training.\n",
    "Note that for parameter initialization you must use **in-place** operations:"
   ]
  },
  {
   "cell_type": "code",
   "execution_count": 122,
   "metadata": {},
   "outputs": [],
   "source": [
    "# create a random ndarray\n",
    "a = np.random.uniform(-1, 1, (5,))\n",
    "\n",
    "# this does not change the data of the ndarray created above!\n",
    "# it creates a new ndarray and replace the reference stored in a\n",
    "a = np.zeros((5, ))\n",
    "\n",
    "# this will change the underlying data of the ndarray that a points to\n",
    "a[:] = 0\n",
    "\n",
    "# similarly, this creates a new array and change the object pointed by a\n",
    "a = a + 1\n",
    "\n",
    "# while this change the underlying data of a\n",
    "a += 1"
   ]
  },
  {
   "cell_type": "markdown",
   "metadata": {},
   "source": [
    "For an affine transformation, it is common to:\n",
    "* initialize the bias to 0\n",
    "* initialize the projection matrix with Glorot initialization (also known as Xavier initialization)\n",
    "\n",
    "The formula for Glorot initialization can be found in equation 16 (page 5) of the original paper: http://proceedings.mlr.press/v9/glorot10a/glorot10a.pdf"
   ]
  },
  {
   "cell_type": "markdown",
   "metadata": {},
   "source": [
    "For the Glorot initialization, we use the one provided in the original paper, i.e. with a uniform law and not the one with a gaussian law."
   ]
  },
  {
   "cell_type": "code",
   "execution_count": 123,
   "metadata": {},
   "outputs": [],
   "source": [
    "def zero_init(b):\n",
    "    b[:] = 0.\n",
    "\n",
    "def glorot_init(W):\n",
    "    nin = np.size(W, 0) - 1\n",
    "    nout = np.size(W, 1) - 1\n",
    "    sd = np.sqrt(6.0 / (nin + nout))\n",
    "    for i in range(nin):\n",
    "        for j in range(nout):\n",
    "            W[i,j] = np.float32(np.random.uniform(-sd, sd))\n",
    "    return W"
   ]
  },
  {
   "cell_type": "markdown",
   "metadata": {},
   "source": [
    "# 3. Building and training the neural network\n",
    "\n",
    "In our simple example, creating the neural network is simply instantiating the parameters $W$ and $b$.\n",
    "They must be ndarray object with the correct dimensions."
   ]
  },
  {
   "cell_type": "markdown",
   "metadata": {},
   "source": [
    "We create a function that initializes the parameters to the right values"
   ]
  },
  {
   "cell_type": "code",
   "execution_count": 124,
   "metadata": {},
   "outputs": [],
   "source": [
    "def create_parameters(dim_input, dim_output):\n",
    "    W = glorot_init(np.zeros((dim_output,dim_input)))\n",
    "    b = np.zeros(dim_output)\n",
    "    return W, b"
   ]
  },
  {
   "cell_type": "markdown",
   "metadata": {},
   "source": [
    "The recent success of deep learning is (partly) due to the ability to train very big neural networks.\n",
    "However, researchers became interested in building small neural networks to improve computational efficiency and memory usage.\n",
    "Therefore, we often want to compare neural networks by their number of parameters, i.e. the size of the memory required to store the parameters."
   ]
  },
  {
   "cell_type": "code",
   "execution_count": 125,
   "metadata": {
    "scrolled": true
   },
   "outputs": [],
   "source": [
    "def print_n_parameters(W, b):\n",
    "    n = W.size + b.size\n",
    "    print(\"Number of parameters: %i\" % (n))"
   ]
  },
  {
   "cell_type": "markdown",
   "metadata": {},
   "source": [
    "We can now create the neural network and print its number of parameters:"
   ]
  },
  {
   "cell_type": "code",
   "execution_count": 126,
   "metadata": {},
   "outputs": [
    {
     "name": "stdout",
     "output_type": "stream",
     "text": [
      "Number of parameters: 7850\n"
     ]
    }
   ],
   "source": [
    "dim_input = 784\n",
    "dim_output = 10\n",
    "W, b = create_parameters(dim_input, dim_output)\n",
    "print_n_parameters(W, b)"
   ]
  },
  {
   "cell_type": "markdown",
   "metadata": {},
   "source": [
    "We notice that the number of parameters is significantly lower than the one of more complex networks (which is not very surprising given the simplicty of our current model)"
   ]
  },
  {
   "cell_type": "markdown",
   "metadata": {},
   "source": [
    "Finally, the training loop!\n",
    "\n",
    "The training loop should be structured as follows:\n",
    "* we do **epochs** over the data, i.e. one epoch is one loop over the dataset\n",
    "* at each epoch, we first loop over the data and update the network parameters with respect to the loss gradient\n",
    "* at the end of each epoch, we evaluate the network on the dev dataset\n",
    "* after all epochs are done, we evaluate our network on the test dataset and compare its performance with the performance on dev\n",
    "\n",
    "During training, it is useful to print the following information:\n",
    "* the mean loss over the epoch: it should be decreasing!\n",
    "* the accuracy on the dev set: it should be increasing!\n",
    "* the accuracy on the train set: it shoud be increasing!\n",
    "\n",
    "If you observe a decreasing loss (+increasing accuracy on train data) but decreasing accuracy on dev data, your network is overfitting!\n",
    "\n",
    "Once you have build **and tested** this a simple training loop, you should introduce the following improvements:\n",
    "* 1) instead of evaluating on dev after each loop on the training data, you can also evaluate on dev n times per epoch\n",
    "* 2) shuffle the data before each epoch\n",
    "* 3) instead of memorizing the parameters of the last epoch only, you should have a copy of the parameters that produced the best value on dev data during training and evaluate on test with those instead of the parameters after the last epoch\n",
    "* 4) learning rate decay: if you do not observe improvement on dev, you can try to reduce the step size\n",
    "\n",
    "After you conducted (successful?) experiments, you should write a report with results."
   ]
  },
  {
   "cell_type": "markdown",
   "metadata": {},
   "source": [
    "## First naive implementation:"
   ]
  },
  {
   "cell_type": "code",
   "execution_count": 219,
   "metadata": {
    "scrolled": true
   },
   "outputs": [
    {
     "name": "stdout",
     "output_type": "stream",
     "text": [
      "loss epoch 1 = 0.37741985761376445\n",
      "accuracy train epoch 1 = 0.89144\n",
      "accuracy dev epoch 1 = 0.9177 \n",
      "\n",
      "loss epoch 2 = 0.30964011635540467\n",
      "accuracy train epoch 2 = 0.91234\n",
      "accuracy dev epoch 2 = 0.9205 \n",
      "\n",
      "loss epoch 3 = 0.29720571501382337\n",
      "accuracy train epoch 3 = 0.9166\n",
      "accuracy dev epoch 3 = 0.9222 \n",
      "\n",
      "loss epoch 4 = 0.29018713848031247\n",
      "accuracy train epoch 4 = 0.91874\n",
      "accuracy dev epoch 4 = 0.9237 \n",
      "\n",
      "loss epoch 5 = 0.2853533534976725\n",
      "accuracy train epoch 5 = 0.92052\n",
      "accuracy dev epoch 5 = 0.9242 \n",
      "\n",
      "loss epoch 6 = 0.2816823786000279\n",
      "accuracy train epoch 6 = 0.92156\n",
      "accuracy dev epoch 6 = 0.9241 \n",
      "\n",
      "loss epoch 7 = 0.27873132361649017\n",
      "accuracy train epoch 7 = 0.92224\n",
      "accuracy dev epoch 7 = 0.9242 \n",
      "\n",
      "loss epoch 8 = 0.2762707815985753\n",
      "accuracy train epoch 8 = 0.92298\n",
      "accuracy dev epoch 8 = 0.9239 \n",
      "\n",
      "loss epoch 9 = 0.2741667766746704\n",
      "accuracy train epoch 9 = 0.92382\n",
      "accuracy dev epoch 9 = 0.9238 \n",
      "\n",
      "loss epoch 10 = 0.2723341509923089\n",
      "accuracy train epoch 10 = 0.92432\n",
      "accuracy dev epoch 10 = 0.9241 \n",
      "\n",
      "loss epoch 11 = 0.27071527367619563\n",
      "accuracy train epoch 11 = 0.92462\n",
      "accuracy dev epoch 11 = 0.9246 \n",
      "\n",
      "loss epoch 12 = 0.2692692165843723\n",
      "accuracy train epoch 12 = 0.92508\n",
      "accuracy dev epoch 12 = 0.9249 \n",
      "\n",
      "loss epoch 13 = 0.267965788013222\n",
      "accuracy train epoch 13 = 0.92564\n",
      "accuracy dev epoch 13 = 0.9249 \n",
      "\n",
      "loss epoch 14 = 0.26678202695405545\n",
      "accuracy train epoch 14 = 0.9261\n",
      "accuracy dev epoch 14 = 0.9248 \n",
      "\n",
      "loss epoch 15 = 0.26570003252049906\n",
      "accuracy train epoch 15 = 0.92634\n",
      "accuracy dev epoch 15 = 0.9248 \n",
      "\n",
      "loss epoch 16 = 0.2647055601131277\n",
      "accuracy train epoch 16 = 0.92658\n",
      "accuracy dev epoch 16 = 0.9251 \n",
      "\n",
      "loss epoch 17 = 0.2637870793335708\n",
      "accuracy train epoch 17 = 0.92672\n",
      "accuracy dev epoch 17 = 0.9251 \n",
      "\n",
      "loss epoch 18 = 0.26293512142239694\n",
      "accuracy train epoch 18 = 0.92696\n",
      "accuracy dev epoch 18 = 0.9247 \n",
      "\n",
      "loss epoch 19 = 0.2621418146363568\n",
      "accuracy train epoch 19 = 0.92724\n",
      "accuracy dev epoch 19 = 0.9243 \n",
      "\n",
      "loss epoch 20 = 0.261400545379747\n",
      "accuracy train epoch 20 = 0.92756\n",
      "accuracy dev epoch 20 = 0.9243 \n",
      "\n"
     ]
    }
   ],
   "source": [
    "# before training, we initialize the parameters of the network\n",
    "\n",
    "W,b=create_parameters(784,10)\n",
    "\n",
    "loss=0\n",
    "n_epochs = 20 # number of epochs\n",
    "step = 0.01 # step size for gradient updates\n",
    "n_good=0 #number of good predictions\n",
    "n_good_dev=0\n",
    "tab_loss=[]\n",
    "tab_acc_train=[]\n",
    "tab_acc_dev=[]\n",
    "tab_epoch=[i+1 for i in range(n_epochs)]\n",
    "best_score_dev=0\n",
    "best_epoch=0\n",
    "\n",
    "for epoch in range(n_epochs):\n",
    "    loss=0\n",
    "    n_good=0\n",
    "    n_good_dev=0\n",
    "    for image,label in zip(*train_data):\n",
    "        output=affine_transform(W,b,image)\n",
    "        g_W_temp,g_b_temp=backward_affine_transform(W,b,image,backward_nll(output,label,1.))\n",
    "        W-=g_W_temp*step\n",
    "        b-=g_b_temp*step\n",
    "        loss=loss+nll(output,label)\n",
    "        if(np.argmax(output)==label):\n",
    "            n_good+=1\n",
    "    tab_loss.append(loss/len(train_data[0]))\n",
    "    tab_acc_train.append(n_good/len(train_data[1]))\n",
    "    print(\"loss epoch\",epoch+1,\"=\",loss/len(train_data[0]))\n",
    "    print(\"accuracy train epoch\",epoch+1,\"=\",n_good/len(train_data[1]))\n",
    "\n",
    "    \n",
    "    #dev evaluation\n",
    "    for image,label in zip(*dev_data):\n",
    "        output = affine_transform(W,b,image)\n",
    "        \n",
    "        if(np.argmax(output)==label):\n",
    "            n_good_dev+=1\n",
    "    \n",
    "    if best_score_dev<n_good_dev/len(dev_data[1]):   #storing best parameters\n",
    "        best_param=W,b\n",
    "        best_score_dev=n_good_dev/len(dev_data[1])\n",
    "        best_epoch=epoch+1\n",
    "        \n",
    "    tab_acc_dev.append(n_good_dev/len(dev_data[1]))\n",
    "    print(\"accuracy dev epoch\",epoch+1,\"=\",n_good_dev/len(dev_data[1]),\"\\n\")\n",
    "    "
   ]
  },
  {
   "cell_type": "code",
   "execution_count": 220,
   "metadata": {},
   "outputs": [
    {
     "data": {
      "text/plain": [
       "16"
      ]
     },
     "execution_count": 220,
     "metadata": {},
     "output_type": "execute_result"
    }
   ],
   "source": [
    "best_epoch"
   ]
  },
  {
   "cell_type": "code",
   "execution_count": 221,
   "metadata": {},
   "outputs": [
    {
     "name": "stdout",
     "output_type": "stream",
     "text": [
      "accuracy test after epoch 20 = 0.9203 \n",
      "\n"
     ]
    }
   ],
   "source": [
    "n_good_test=0\n",
    "tab_acc_test=[]\n",
    "\n",
    "#test evaluation\n",
    "for image,label in zip(*test_data):\n",
    "    output = affine_transform(W,b,image) \n",
    "\n",
    "    if(np.argmax(output)==label):\n",
    "        n_good_test+=1\n",
    "        \n",
    "tab_acc_test.append(n_good_test/len(test_data[1]))\n",
    "print(\"accuracy test after epoch\",epoch+1,\"=\",n_good_test/len(test_data[1]),\"\\n\")"
   ]
  },
  {
   "cell_type": "markdown",
   "metadata": {},
   "source": [
    "# 4. Results analysis"
   ]
  },
  {
   "cell_type": "markdown",
   "metadata": {},
   "source": [
    "### Results of the first implementation:"
   ]
  },
  {
   "cell_type": "markdown",
   "metadata": {},
   "source": [
    "* 20 epochs\n",
    "* 0.01 step size\n",
    "\n",
    "We plot the loss on the train set :"
   ]
  },
  {
   "cell_type": "code",
   "execution_count": 231,
   "metadata": {},
   "outputs": [
    {
     "data": {
      "image/png": "[encoded data removed]",
      "text/plain": [
       "<Figure size 432x288 with 1 Axes>"
      ]
     },
     "metadata": {
      "needs_background": "light"
     },
     "output_type": "display_data"
    }
   ],
   "source": [
    "plt.plot(tab_epoch,tab_loss)\n",
    "plt.xlabel('Epochs')\n",
    "plt.ylabel('Loss')\n",
    "plt.show()"
   ]
  },
  {
   "cell_type": "markdown",
   "metadata": {},
   "source": [
    "Then the accuracy on both the train set (in blue) and the test set (in orange)"
   ]
  },
  {
   "cell_type": "code",
   "execution_count": 232,
   "metadata": {
    "scrolled": true
   },
   "outputs": [
    {
     "data": {
      "image/png": "[encoded data removed]",
      "text/plain": [
       "<Figure size 432x288 with 1 Axes>"
      ]
     },
     "metadata": {
      "needs_background": "light"
     },
     "output_type": "display_data"
    }
   ],
   "source": [
    "plt.plot(tab_epoch,tab_acc_train,label='acc_train')\n",
    "plt.plot(tab_epoch,tab_acc_dev,label='acc_dev')\n",
    "plt.xlabel('Epochs')\n",
    "plt.ylabel('Accuracy')\n",
    "plt.legend()\n",
    "plt.show()"
   ]
  },
  {
   "cell_type": "markdown",
   "metadata": {},
   "source": [
    "We notice that there is a little bit of overfitting, peak performance is achieved after only 16 epochs, then it decreases with further training.\n",
    "\n",
    "There is no need to decrease the step size as train loss decreases. The lack of performance is probably just due to the simplicity of the model."
   ]
  },
  {
   "cell_type": "markdown",
   "metadata": {},
   "source": [
    "## Implementation with Improvements:\n",
    "\n",
    "* 1) instead of evaluating on dev after each loop on the training data, you can also evaluate on dev n times per epoch\n",
    "* 2) shuffle the data before each epoch\n",
    "* 3) instead of memorizing the parameters of the last epoch only, you should have a copy of the parameters that produced the best value on dev data during training and evaluate on test with those instead of the parameters after the last epoch\n",
    "* 4) learning rate decay: if you do not observe improvement on dev, you can try to reduce the step size"
   ]
  },
  {
   "cell_type": "code",
   "execution_count": 264,
   "metadata": {
    "scrolled": true
   },
   "outputs": [
    {
     "name": "stdout",
     "output_type": "stream",
     "text": [
      "step = 0.01\n",
      "loss epoch 1 = 0.375481431765968\n",
      "accuracy train epoch 1 = 0.89244\n",
      "accuracy dev epoch 1 = 0.9144 \n",
      "\n",
      "step = 0.01\n",
      "loss epoch 2 = 0.3102517809459002\n",
      "accuracy train epoch 2 = 0.9124\n",
      "accuracy dev epoch 2 = 0.9165 \n",
      "\n",
      "step = 0.01\n",
      "loss epoch 3 = 0.29731284304580646\n",
      "accuracy train epoch 3 = 0.91624\n",
      "accuracy dev epoch 3 = 0.9244 \n",
      "\n",
      "step = 0.01\n",
      "loss epoch 4 = 0.29060802875860464\n",
      "accuracy train epoch 4 = 0.91786\n",
      "accuracy dev epoch 4 = 0.9212 \n",
      "\n",
      "step = 0.005\n",
      "loss epoch 5 = 0.27204271329880336\n",
      "accuracy train epoch 5 = 0.92438\n",
      "accuracy dev epoch 5 = 0.9261 \n",
      "\n",
      "step = 0.005\n",
      "loss epoch 6 = 0.26882494157248926\n",
      "accuracy train epoch 6 = 0.92426\n",
      "accuracy dev epoch 6 = 0.9266 \n",
      "\n",
      "step = 0.005\n",
      "loss epoch 7 = 0.26727733573508217\n",
      "accuracy train epoch 7 = 0.92494\n",
      "accuracy dev epoch 7 = 0.9267 \n",
      "\n",
      "step = 0.005\n",
      "loss epoch 8 = 0.2657585023707013\n",
      "accuracy train epoch 8 = 0.92516\n",
      "accuracy dev epoch 8 = 0.9262 \n",
      "\n",
      "step = 0.0025\n",
      "loss epoch 9 = 0.2579149892674369\n",
      "accuracy train epoch 9 = 0.92832\n",
      "accuracy dev epoch 9 = 0.9301 \n",
      "\n",
      "step = 0.0025\n",
      "loss epoch 10 = 0.25655194766822625\n",
      "accuracy train epoch 10 = 0.92862\n",
      "accuracy dev epoch 10 = 0.9286 \n",
      "\n",
      "step = 0.00125\n",
      "loss epoch 11 = 0.25234263910678006\n",
      "accuracy train epoch 11 = 0.9302\n",
      "accuracy dev epoch 11 = 0.9296 \n",
      "\n",
      "step = 0.000625\n",
      "loss epoch 12 = 0.25020022196789987\n",
      "accuracy train epoch 12 = 0.93056\n",
      "accuracy dev epoch 12 = 0.9295 \n",
      "\n",
      "step = 0.0003125\n",
      "loss epoch 13 = 0.2489551825777357\n",
      "accuracy train epoch 13 = 0.9309\n",
      "accuracy dev epoch 13 = 0.9307 \n",
      "\n",
      "step = 0.0003125\n",
      "loss epoch 14 = 0.24884432260465936\n",
      "accuracy train epoch 14 = 0.9308\n",
      "accuracy dev epoch 14 = 0.9294 \n",
      "\n",
      "step = 0.00015625\n",
      "loss epoch 15 = 0.2483078919416014\n",
      "accuracy train epoch 15 = 0.93104\n",
      "accuracy dev epoch 15 = 0.9298 \n",
      "\n",
      "step = 7.8125e-05\n",
      "loss epoch 16 = 0.2479117515019051\n",
      "accuracy train epoch 16 = 0.93094\n",
      "accuracy dev epoch 16 = 0.9296 \n",
      "\n",
      "step = 3.90625e-05\n",
      "loss epoch 17 = 0.24774554078928587\n",
      "accuracy train epoch 17 = 0.9312\n",
      "accuracy dev epoch 17 = 0.9302 \n",
      "\n",
      "step = 1.953125e-05\n",
      "loss epoch 18 = 0.2476612983812487\n",
      "accuracy train epoch 18 = 0.93122\n",
      "accuracy dev epoch 18 = 0.9299 \n",
      "\n",
      "step = 9.765625e-06\n",
      "loss epoch 19 = 0.24761290121599647\n",
      "accuracy train epoch 19 = 0.93128\n",
      "accuracy dev epoch 19 = 0.93 \n",
      "\n",
      "step = 4.8828125e-06\n",
      "loss epoch 20 = 0.247588920103253\n",
      "accuracy train epoch 20 = 0.93124\n",
      "accuracy dev epoch 20 = 0.93 \n",
      "\n"
     ]
    }
   ],
   "source": [
    "# before training, we initialize the parameters of the network\n",
    "\n",
    "W,b=create_parameters(784,10)\n",
    "\n",
    "loss=0\n",
    "n_epochs = 20 # number of epochs\n",
    "step = 0.01 # step size for gradient updates\n",
    "n_good=0 #number of good predictions\n",
    "n_good_dev=0\n",
    "tab_loss=[]\n",
    "tab_acc_train=[]\n",
    "tab_acc_dev=[]\n",
    "tab_epoch=[i for i in range(n_epochs)]\n",
    "best_score_dev=0\n",
    "best_epoch=0\n",
    "    \n",
    "for epoch in range(n_epochs):\n",
    "    loss=0\n",
    "    n_good=0\n",
    "    n_good_dev=0\n",
    "    \n",
    "    #shuffle the train data and keeping their labels\n",
    "    data=train_data[0]\n",
    "    labels=train_data[1]\n",
    "    idx = np.random.permutation(len(train_data[0]))\n",
    "    train_data_shuffled = data[idx], labels[idx]\n",
    "    \n",
    "    for image,label in zip(*train_data_shuffled):\n",
    "        output=affine_transform(W,b,image)\n",
    "        g_W_temp,g_b_temp=backward_affine_transform(W,b,image,backward_nll(output,label,1.))\n",
    "        W-=g_W_temp*step\n",
    "        b-=g_b_temp*step\n",
    "        loss=loss+nll(output,label)\n",
    "        if(np.argmax(output)==label):\n",
    "            n_good+=1\n",
    "    tab_loss.append(loss/len(train_data[0]))\n",
    "    tab_acc_train.append(n_good/len(train_data[1]))\n",
    "    print(\"step =\",step)\n",
    "    print(\"loss epoch\",epoch+1,\"=\",loss/len(train_data[0]))\n",
    "    print(\"accuracy train epoch\",epoch+1,\"=\",n_good/len(train_data[1]))\n",
    "\n",
    "    \n",
    "    #dev evaluation\n",
    "    for image,label in zip(*dev_data):\n",
    "        output = affine_transform(W,b,image)\n",
    "        \n",
    "        if(np.argmax(output)==label):\n",
    "            n_good_dev+=1\n",
    "    \n",
    "    if best_score_dev<n_good_dev/len(dev_data[1]):   #storing best parameters\n",
    "        best_param=W,b\n",
    "        best_score_dev=n_good_dev/len(dev_data[1])\n",
    "        best_epoch=epoch+1\n",
    "    \n",
    "    if best_score_dev>n_good_dev/len(dev_data[1]): #decrease the step if the score on the dev not improve\n",
    "        step=step/2\n",
    "        \n",
    "        \n",
    "    tab_acc_dev.append(n_good_dev/len(dev_data[1]))\n",
    "    print(\"accuracy dev epoch\",epoch+1,\"=\",n_good_dev/len(dev_data[1]),\"\\n\")"
   ]
  },
  {
   "cell_type": "code",
   "execution_count": 271,
   "metadata": {},
   "outputs": [
    {
     "name": "stdout",
     "output_type": "stream",
     "text": [
      "accuracy dev best score = 0.9307 at the 13 epoch\n"
     ]
    }
   ],
   "source": [
    "print(\"accuracy dev best score =\",best_score_dev, \"at the\", best_epoch,\"epoch\")"
   ]
  },
  {
   "cell_type": "code",
   "execution_count": 268,
   "metadata": {},
   "outputs": [
    {
     "name": "stdout",
     "output_type": "stream",
     "text": [
      "accuracy test with best parameters = 0.9261 \n",
      "\n"
     ]
    }
   ],
   "source": [
    "n_good_test=0\n",
    "tab_acc_test=[]\n",
    "\n",
    "#test evaluation\n",
    "for image,label in zip(*test_data):\n",
    "    output = affine_transform(best_param[0],best_param[1],image) #we use here the best params instead of the last ones\n",
    "\n",
    "    if(np.argmax(output)==label):\n",
    "        n_good_test+=1\n",
    "        \n",
    "tab_acc_test.append(n_good_test/len(test_data[1]))\n",
    "print(\"accuracy test with best parameters =\",n_good_test/len(test_data[1]),\"\\n\")"
   ]
  },
  {
   "cell_type": "markdown",
   "metadata": {},
   "source": [
    "### Results of the optimized implementation:"
   ]
  },
  {
   "cell_type": "markdown",
   "metadata": {},
   "source": [
    "* 20 epochs\n",
    "* We initialize the step size to 0.01\n",
    "\n",
    "We plot the loss on the train set :"
   ]
  },
  {
   "cell_type": "code",
   "execution_count": 272,
   "metadata": {},
   "outputs": [
    {
     "data": {
      "image/png": "[encoded data removed]",
      "text/plain": [
       "<Figure size 432x288 with 1 Axes>"
      ]
     },
     "metadata": {
      "needs_background": "light"
     },
     "output_type": "display_data"
    }
   ],
   "source": [
    "plt.plot(tab_epoch,tab_loss)\n",
    "plt.xlabel('Epochs')\n",
    "plt.ylabel('Loss')\n",
    "plt.show()"
   ]
  },
  {
   "cell_type": "markdown",
   "metadata": {},
   "source": [
    "Then the accuracy on both the train set (in blue) and the test set (in orange)"
   ]
  },
  {
   "cell_type": "code",
   "execution_count": 273,
   "metadata": {},
   "outputs": [
    {
     "data": {
      "image/png": "[encoded data removed]",
      "text/plain": [
       "<Figure size 432x288 with 1 Axes>"
      ]
     },
     "metadata": {
      "needs_background": "light"
     },
     "output_type": "display_data"
    }
   ],
   "source": [
    "plt.plot(tab_epoch,tab_acc_train,label='acc_train')\n",
    "plt.plot(tab_epoch,tab_acc_dev,label='acc_dev')\n",
    "plt.xlabel('Epochs')\n",
    "plt.ylabel('Accuracy')\n",
    "plt.legend()\n",
    "plt.show()"
   ]
  },
  {
   "cell_type": "markdown",
   "metadata": {},
   "source": [
    "With the optimized implementation we are now able to get 0.9261 accuracy on the test set instead of 0.9203 with the precedent model."
   ]
  }
 ],
 "metadata": {
  "anaconda-cloud": {},
  "kernelspec": {
   "display_name": "Python 3",
   "language": "python",
   "name": "python3"
  },
  "language_info": {
   "codemirror_mode": {
    "name": "ipython",
    "version": 3
   },
   "file_extension": ".py",
   "mimetype": "text/x-python",
   "name": "python",
   "nbconvert_exporter": "python",
   "pygments_lexer": "ipython3",
   "version": "3.7.3"
  }
 },
 "nbformat": 4,
 "nbformat_minor": 1
}
