{
 "cells": [
  {
   "cell_type": "code",
   "execution_count": 31,
   "metadata": {},
   "outputs": [
    {
     "name": "stdout",
     "output_type": "stream",
     "text": [
      "Requirement already satisfied: pydub in c:\\programdata\\anaconda3\\lib\\site-packages (0.23.1)\n",
      "Requirement already satisfied: ffmpeg in c:\\programdata\\anaconda3\\lib\\site-packages (1.4)\n"
     ]
    }
   ],
   "source": [
    "! pip install --user pydub\n",
    "! pip install --user ffmpeg"
   ]
  },
  {
   "cell_type": "markdown",
   "metadata": {},
   "source": [
    "Importing libraries:"
   ]
  },
  {
   "cell_type": "code",
   "execution_count": 27,
   "metadata": {},
   "outputs": [],
   "source": [
    "import matplotlib.pyplot as plt\n",
    "from scipy.io import wavfile as wav\n",
    "import numpy as np\n",
    "from numpy.fft import fft, fftfreq\n",
    "from pydub import AudioSegment\n",
    "from scipy.signal import find_peaks"
   ]
  },
  {
   "cell_type": "markdown",
   "metadata": {},
   "source": [
    "---"
   ]
  },
  {
   "cell_type": "markdown",
   "metadata": {},
   "source": [
    "Set the name of our files:"
   ]
  },
  {
   "cell_type": "code",
   "execution_count": 98,
   "metadata": {
    "scrolled": true
   },
   "outputs": [],
   "source": [
    "f1 = \"string1\"\n",
    "f2 = \"string2\"\n",
    "f3 = \"string3\""
   ]
  },
  {
   "cell_type": "markdown",
   "metadata": {},
   "source": [
    "Convert our files from mp3 to wav:"
   ]
  },
  {
   "cell_type": "code",
   "execution_count": 96,
   "metadata": {},
   "outputs": [],
   "source": [
    "def convert(filename):\n",
    "    sound = AudioSegment.from_mp3(filename + \".mp3\")\n",
    "    sound.export(filename + \".wav\", format=\"wav\")"
   ]
  },
  {
   "cell_type": "code",
   "execution_count": null,
   "metadata": {},
   "outputs": [],
   "source": [
    "convert(f1)\n",
    "convert(f2)\n",
    "convert(f3)"
   ]
  },
  {
   "cell_type": "markdown",
   "metadata": {},
   "source": [
    "Check the results on the disk:"
   ]
  },
  {
   "cell_type": "code",
   "execution_count": 100,
   "metadata": {},
   "outputs": [
    {
     "name": "stdout",
     "output_type": "stream",
     "text": [
      "['.ipynb_checkpoints', 'barbara.jpg', 'guitar_tuner.ipynb', 'nt_toolbox', 'nt_toolbox.zip', 'string1.mp3', 'string1.wav', 'string2.mp3', 'string2.wav', 'string3.mp3', 'string3.wav', 'TC6_TP1.ipynb', 'Untitled.ipynb', 'Untitled1.ipynb', '__MACOSX']\n"
     ]
    }
   ],
   "source": [
    "import os\n",
    "print(os.listdir())"
   ]
  },
  {
   "cell_type": "markdown",
   "metadata": {},
   "source": [
    "----------"
   ]
  },
  {
   "cell_type": "markdown",
   "metadata": {},
   "source": [
    "#### Functions:"
   ]
  },
  {
   "cell_type": "markdown",
   "metadata": {},
   "source": [
    "Function reading our files:"
   ]
  },
  {
   "cell_type": "code",
   "execution_count": 106,
   "metadata": {},
   "outputs": [],
   "source": [
    "def reading (filename):\n",
    "    wav.read(filename + \".wav\") #return the sampling rate and a numpy array with all the data read from the file"
   ]
  },
  {
   "cell_type": "markdown",
   "metadata": {},
   "source": [
    "Function Fourier transform:"
   ]
  },
  {
   "cell_type": "code",
   "execution_count": 198,
   "metadata": {},
   "outputs": [],
   "source": [
    "def fft_transform (data):\n",
    "    signal = data[:,0] if len(data.shape) == 2 else data #test if my signal is mono or stereo and take the first colomn of my array\n",
    "    y = abs(fft(signal)) #fourier transform to obtain the frequencies amplitude of our signal (the axis y)\n",
    "    x = fftfreq(len(signal)) * fs #fourier transform to obtain our different frequencies (the axis x)\n",
    "    return (x,y)"
   ]
  },
  {
   "cell_type": "markdown",
   "metadata": {},
   "source": [
    "Function to get the fundamental:"
   ]
  },
  {
   "cell_type": "code",
   "execution_count": 224,
   "metadata": {},
   "outputs": [],
   "source": [
    "def fundamental (x,y,fs):\n",
    "    peaks = x[find_peaks(y, distance=fs/50, height=max(y)/10)[0]] #find all the peaks of our Fourier transform\n",
    "    nb_peaks = 3 #we choose the number of peaks to round the result\n",
    "    try_peaks = peaks[:nb_peaks] #we take the first 3 peaks of our signal\n",
    "    for i in range(nb_peaks):\n",
    "        try_peaks[i] /= i+1\n",
    "    fundamental_peak=np.median(try_peaks)\n",
    "    print(filename,'fundamental:',fundamental_peak)\n",
    "    return fundamental_peak"
   ]
  },
  {
   "cell_type": "markdown",
   "metadata": {},
   "source": [
    "Function to plot the Fourier transform"
   ]
  },
  {
   "cell_type": "code",
   "execution_count": 230,
   "metadata": {},
   "outputs": [],
   "source": [
    "def signal_plot(x,y):\n",
    "    plt.plot(x, y)\n",
    "    plt.xlim(0, 1000)\n",
    "    plt.show()"
   ]
  },
  {
   "cell_type": "code",
   "execution_count": 188,
   "metadata": {},
   "outputs": [],
   "source": [
    "def find_notes(freq):\n",
    "    l = {'E1': [329.63, 0.15],\n",
    "         'B2': [246.94, 0.15],\n",
    "         'G3': [196.00, 0.15],\n",
    "         'D4': [146.83, 0.08],\n",
    "         'A5': [110.00, 0.08],\n",
    "         'E6': [82.41, 0.04]} #list of notes in Hz with their matching values in cent\n",
    "    for key, value in l.items(): #test of the accuracy in Hz and in cent \n",
    "        error = abs(value[0]-freq)\n",
    "        if (error < (10 * value[1])): #A human can notice a pitch change of about five cents\n",
    "            print('note played',key,'with',error,'error in hertz and', error/value[1], 'error in cent')"
   ]
  },
  {
   "cell_type": "markdown",
   "metadata": {},
   "source": [
    "---"
   ]
  },
  {
   "cell_type": "code",
   "execution_count": 231,
   "metadata": {},
   "outputs": [
    {
     "data": {
      "image/png": "[encoded data removed]",
      "text/plain": [
       "<Figure size 432x288 with 1 Axes>"
      ]
     },
     "metadata": {
      "needs_background": "light"
     },
     "output_type": "display_data"
    },
    {
     "name": "stdout",
     "output_type": "stream",
     "text": [
      "string1 fundamental: 329.5879495554957\n",
      "note played E1 with 0.04205044450429796 error in hertz and 0.28033629669531973 error in cent\n"
     ]
    }
   ],
   "source": [
    "#String1\n",
    "fs,data = reading(f1)\n",
    "x,y=fft_transform(data)\n",
    "signal_plot(x,y)\n",
    "freq=fundamental(x,y,fs)\n",
    "find_notes(freq)"
   ]
  },
  {
   "cell_type": "code",
   "execution_count": 234,
   "metadata": {},
   "outputs": [
    {
     "data": {
      "image/png": "[encoded data removed]",
      "text/plain": [
       "<Figure size 432x288 with 1 Axes>"
      ]
     },
     "metadata": {
      "needs_background": "light"
     },
     "output_type": "display_data"
    },
    {
     "name": "stdout",
     "output_type": "stream",
     "text": [
      "string1 fundamental: 195.75194313765599\n",
      "note played G3 with 0.24805686234401492 error in hertz and 1.6537124156267662 error in cent\n"
     ]
    }
   ],
   "source": [
    "#String2\n",
    "fs,data = reading(f2)\n",
    "x,y=fft_transform(data)\n",
    "signal_plot(x,y)\n",
    "freq=fundamental(x,y,fs)\n",
    "find_notes(freq)"
   ]
  },
  {
   "cell_type": "code",
   "execution_count": 233,
   "metadata": {},
   "outputs": [
    {
     "data": {
      "image/png": "[encoded data removed]",
      "text/plain": [
       "<Figure size 432x288 with 1 Axes>"
      ]
     },
     "metadata": {
      "needs_background": "light"
     },
     "output_type": "display_data"
    },
    {
     "name": "stdout",
     "output_type": "stream",
     "text": [
      "string1 fundamental: 110.04096373860773\n",
      "note played A5 with 0.04096373860772928 error in hertz and 0.512046732596616 error in cent\n"
     ]
    }
   ],
   "source": [
    "#String3\n",
    "fs,data = reading(f3)\n",
    "x,y=fft_transform(data)\n",
    "signal_plot(x,y)\n",
    "freq=fundamental(x,y,fs)\n",
    "find_notes(freq)"
   ]
  }
 ],
 "metadata": {
  "kernelspec": {
   "display_name": "Python 3",
   "language": "python",
   "name": "python3"
  },
  "language_info": {
   "codemirror_mode": {
    "name": "ipython",
    "version": 3
   },
   "file_extension": ".py",
   "mimetype": "text/x-python",
   "name": "python",
   "nbconvert_exporter": "python",
   "pygments_lexer": "ipython3",
   "version": "3.7.3"
  }
 },
 "nbformat": 4,
 "nbformat_minor": 2
}
