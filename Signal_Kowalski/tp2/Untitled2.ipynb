{
 "cells": [
  {
   "cell_type": "code",
   "execution_count": 1,
   "metadata": {},
   "outputs": [],
   "source": [
    "#from pydub import AudioSegment\n",
    "\n",
    "import matplotlib.pyplot as plt\n",
    "import numpy as np\n",
    "from scipy.fftpack import fft\n",
    "from scipy.io import wavfile\n",
    "#from pydub import AudioSegment\n",
    "\n",
    "\n",
    "# files                                                                         \n",
    "src1 = \"string1.mp3\"\n",
    "dst1 = \"string1.wav\"\n",
    "src2 = \"string2.mp3\"\n",
    "dst2 = \"string2.wav\"\n",
    "src3 = \"string3.mp3\"\n",
    "dst3 = \"string3.wav\"\n",
    "\n",
    "# add 0.15 ect\n",
    "notes = {\n",
    "        'E1': [329.63, 0.15],\n",
    "        'B2': [246.94, 0.15],\n",
    "        'G3': [196.00, 0.15],\n",
    "        'D4': [146.83, 0.08],\n",
    "        'A5': [110.00, 0.08],\n",
    "        'E6': [82.41, 0.04]}\n",
    "\n",
    "# convert wav to mp3                                                            \n",
    "#sound = AudioSegment.from_mp3(src)\n",
    "#sound.export(dst, format=\"wav\")\n",
    "\n",
    "\n",
    "def getFirstPic(half_yf, threshold):\n",
    "    c=0\n",
    "    ca_monte = False\n",
    "    \n",
    "    # Detecte les doubles pics, merge les pic si la distance entre 2 pic \n",
    "    # est inférieur a 20\n",
    "    first_pic = 0\n",
    "    second_pic = 0\n",
    "\n",
    "    for i in range(len(half_yf)):\n",
    "        # derivative\n",
    "        d = half_yf[i+1] - half_yf[i]\n",
    "        if (d>0):\n",
    "            c+=1\n",
    "            # on monte\n",
    "            ca_monte = True\n",
    "        else:\n",
    "            if ca_monte == True:\n",
    "                #on redescend\n",
    "                ca_monte = False\n",
    "                c=0\n",
    "                if(half_yf[i]>threshold):\n",
    "                    if (first_pic ==0):\n",
    "                        first_pic = i\n",
    "                    else:\n",
    "                        second_pic = i\n",
    "                        # Quand on a trouvé le second pic on peut sortir de \n",
    "                        # la boucle.\n",
    "                        break\n",
    "    \n",
    "    if ((second_pic - first_pic)<20):\n",
    "        return (first_pic + second_pic)/2        \n",
    "                \n",
    "    return(first_pic)\n",
    "\n",
    "\n",
    "def getFondamental(data):\n",
    "    # Select the first track \n",
    "    d = data.T[0] \n",
    "    \n",
    "    # Calculate the fourier transform get the half of the lenght\n",
    "    yf = fft(d)\n",
    "    yf = abs(yf)\n",
    "    half_yf = yf[:len(yf)//2]\n",
    "    # Normalyze half_yf tu have a constant threshold\n",
    "    maximum = np.amax(half_yf)\n",
    "    half_yf = half_yf/maximum\n",
    "    \n",
    "    # change linespace start=0 stop fs/2\n",
    "    xf = np.linspace(0.0, fs/2, len(data)//2)\n",
    "     \n",
    "    plt.plot(xf, half_yf)\n",
    "    plt.grid() \n",
    "    plt.show()\n",
    "    \n",
    "    # select a threshold\n",
    "    threshold = 0.2\n",
    "    \n",
    "    i = getFirstPic(half_yf, threshold)\n",
    "        \n",
    "    freq = ((fs/2)*(i+1))/len(half_yf)\n",
    "    print(freq)\n",
    "    return freq\n",
    "\n",
    "\n",
    "def getNote(notes, freq, accuracy):\n",
    "    \"\"\"\n",
    "    Find the right notes with accuracy\n",
    "    \"\"\"\n",
    "    for key, value in notes.items():\n",
    "        er = abs(value[0]-freq)\n",
    "        # on est accordé juqu'a 5 cents\n",
    "        if (er < (10 * value[1])):\n",
    "            print(\"error in hertz = \", er)\n",
    "            print(\"error in cent = \", er/value[1])\n",
    "            return key"
   ]
  },
  {
   "cell_type": "code",
   "execution_count": 2,
   "metadata": {},
   "outputs": [
    {
     "data": {
      "image/png": "[encoded data removed]",
      "text/plain": [
       "<Figure size 432x288 with 1 Axes>"
      ]
     },
     "metadata": {
      "needs_background": "light"
     },
     "output_type": "display_data"
    },
    {
     "name": "stdout",
     "output_type": "stream",
     "text": [
      "330.05202720905174\n",
      "error in hertz =  0.4220272090517483\n",
      "error in cent =  2.8135147270116554\n",
      "E1\n"
     ]
    }
   ],
   "source": [
    "# load data from wave file\n",
    "fs, data = wavfile.read(dst1)\n",
    "freq = getFondamental(data)\n",
    "note1 = getNote(notes, freq, 1)\n",
    "print(note1)"
   ]
  },
  {
   "cell_type": "code",
   "execution_count": 3,
   "metadata": {},
   "outputs": [
    {
     "data": {
      "image/png": "[encoded data removed]",
      "text/plain": [
       "<Figure size 432x288 with 1 Axes>"
      ]
     },
     "metadata": {
      "needs_background": "light"
     },
     "output_type": "display_data"
    },
    {
     "name": "stdout",
     "output_type": "stream",
     "text": [
      "195.43874002863572\n",
      "error in hertz =  0.5612599713642794\n",
      "error in cent =  3.7417331424285294\n",
      "G3\n"
     ]
    }
   ],
   "source": [
    "fs, data = wavfile.read(dst2)\n",
    "freq = getFondamental(data)\n",
    "note2 = getNote(notes, freq, 1)\n",
    "print(note2)"
   ]
  }
 ],
 "metadata": {
  "kernelspec": {
   "display_name": "Python 3",
   "language": "python",
   "name": "python3"
  },
  "language_info": {
   "codemirror_mode": {
    "name": "ipython",
    "version": 3
   },
   "file_extension": ".py",
   "mimetype": "text/x-python",
   "name": "python",
   "nbconvert_exporter": "python",
   "pygments_lexer": "ipython3",
   "version": "3.7.3"
  }
 },
 "nbformat": 4,
 "nbformat_minor": 2
}
